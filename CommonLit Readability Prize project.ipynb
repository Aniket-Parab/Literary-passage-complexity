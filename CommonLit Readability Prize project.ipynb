{
 "cells": [
  {
   "cell_type": "markdown",
   "id": "fdf4af37",
   "metadata": {},
   "source": [
    "#### Importing Required packages"
   ]
  },
  {
   "cell_type": "code",
   "execution_count": 2,
   "id": "b08138e6",
   "metadata": {},
   "outputs": [],
   "source": [
    "import pandas as pd\n",
    "import numpy as np\n",
    "import matplotlib.pyplot as plt\n",
    "import nltk"
   ]
  },
  {
   "cell_type": "code",
   "execution_count": 3,
   "id": "defcddaf",
   "metadata": {},
   "outputs": [
    {
     "data": {
      "text/html": [
       "<div>\n",
       "<style scoped>\n",
       "    .dataframe tbody tr th:only-of-type {\n",
       "        vertical-align: middle;\n",
       "    }\n",
       "\n",
       "    .dataframe tbody tr th {\n",
       "        vertical-align: top;\n",
       "    }\n",
       "\n",
       "    .dataframe thead th {\n",
       "        text-align: right;\n",
       "    }\n",
       "</style>\n",
       "<table border=\"1\" class=\"dataframe\">\n",
       "  <thead>\n",
       "    <tr style=\"text-align: right;\">\n",
       "      <th></th>\n",
       "      <th>id</th>\n",
       "      <th>url_legal</th>\n",
       "      <th>license</th>\n",
       "      <th>excerpt</th>\n",
       "      <th>target</th>\n",
       "      <th>standard_error</th>\n",
       "    </tr>\n",
       "  </thead>\n",
       "  <tbody>\n",
       "    <tr>\n",
       "      <th>0</th>\n",
       "      <td>c12129c31</td>\n",
       "      <td>NaN</td>\n",
       "      <td>NaN</td>\n",
       "      <td>When the young people returned to the ballroom...</td>\n",
       "      <td>-0.340259</td>\n",
       "      <td>0.464009</td>\n",
       "    </tr>\n",
       "    <tr>\n",
       "      <th>1</th>\n",
       "      <td>85aa80a4c</td>\n",
       "      <td>NaN</td>\n",
       "      <td>NaN</td>\n",
       "      <td>All through dinner time, Mrs. Fayre was somewh...</td>\n",
       "      <td>-0.315372</td>\n",
       "      <td>0.480805</td>\n",
       "    </tr>\n",
       "    <tr>\n",
       "      <th>2</th>\n",
       "      <td>b69ac6792</td>\n",
       "      <td>NaN</td>\n",
       "      <td>NaN</td>\n",
       "      <td>As Roger had predicted, the snow departed as q...</td>\n",
       "      <td>-0.580118</td>\n",
       "      <td>0.476676</td>\n",
       "    </tr>\n",
       "    <tr>\n",
       "      <th>3</th>\n",
       "      <td>dd1000b26</td>\n",
       "      <td>NaN</td>\n",
       "      <td>NaN</td>\n",
       "      <td>And outside before the palace a great garden w...</td>\n",
       "      <td>-1.054013</td>\n",
       "      <td>0.450007</td>\n",
       "    </tr>\n",
       "    <tr>\n",
       "      <th>4</th>\n",
       "      <td>37c1b32fb</td>\n",
       "      <td>NaN</td>\n",
       "      <td>NaN</td>\n",
       "      <td>Once upon a time there were Three Bears who li...</td>\n",
       "      <td>0.247197</td>\n",
       "      <td>0.510845</td>\n",
       "    </tr>\n",
       "  </tbody>\n",
       "</table>\n",
       "</div>"
      ],
      "text/plain": [
       "          id url_legal license  \\\n",
       "0  c12129c31       NaN     NaN   \n",
       "1  85aa80a4c       NaN     NaN   \n",
       "2  b69ac6792       NaN     NaN   \n",
       "3  dd1000b26       NaN     NaN   \n",
       "4  37c1b32fb       NaN     NaN   \n",
       "\n",
       "                                             excerpt    target  standard_error  \n",
       "0  When the young people returned to the ballroom... -0.340259        0.464009  \n",
       "1  All through dinner time, Mrs. Fayre was somewh... -0.315372        0.480805  \n",
       "2  As Roger had predicted, the snow departed as q... -0.580118        0.476676  \n",
       "3  And outside before the palace a great garden w... -1.054013        0.450007  \n",
       "4  Once upon a time there were Three Bears who li...  0.247197        0.510845  "
      ]
     },
     "execution_count": 3,
     "metadata": {},
     "output_type": "execute_result"
    }
   ],
   "source": [
    "df = pd.read_csv(r\"E:\\Data Science\\Project\\CommonLit Readability Prize\\train.csv\")\n",
    "df.head()"
   ]
  },
  {
   "cell_type": "code",
   "execution_count": 4,
   "id": "bf688ba3",
   "metadata": {},
   "outputs": [],
   "source": [
    "df1 = df "
   ]
  },
  {
   "cell_type": "code",
   "execution_count": 5,
   "id": "1ba161ee",
   "metadata": {},
   "outputs": [
    {
     "data": {
      "text/plain": [
       "count    2834.000000\n",
       "mean       -0.959319\n",
       "std         1.033579\n",
       "min        -3.676268\n",
       "25%        -1.690320\n",
       "50%        -0.912190\n",
       "75%        -0.202540\n",
       "max         1.711390\n",
       "Name: target, dtype: float64"
      ]
     },
     "execution_count": 5,
     "metadata": {},
     "output_type": "execute_result"
    }
   ],
   "source": [
    "df.target.describe()"
   ]
  },
  {
   "cell_type": "markdown",
   "id": "dbd5cf65",
   "metadata": {},
   "source": [
    "#### only taking imp columns"
   ]
  },
  {
   "cell_type": "code",
   "execution_count": 6,
   "id": "5c20572c",
   "metadata": {},
   "outputs": [],
   "source": [
    "df = df.iloc[:, [-3,-2]]"
   ]
  },
  {
   "cell_type": "code",
   "execution_count": 7,
   "id": "faedfc59",
   "metadata": {},
   "outputs": [
    {
     "data": {
      "text/html": [
       "<div>\n",
       "<style scoped>\n",
       "    .dataframe tbody tr th:only-of-type {\n",
       "        vertical-align: middle;\n",
       "    }\n",
       "\n",
       "    .dataframe tbody tr th {\n",
       "        vertical-align: top;\n",
       "    }\n",
       "\n",
       "    .dataframe thead th {\n",
       "        text-align: right;\n",
       "    }\n",
       "</style>\n",
       "<table border=\"1\" class=\"dataframe\">\n",
       "  <thead>\n",
       "    <tr style=\"text-align: right;\">\n",
       "      <th></th>\n",
       "      <th>excerpt</th>\n",
       "      <th>target</th>\n",
       "    </tr>\n",
       "  </thead>\n",
       "  <tbody>\n",
       "    <tr>\n",
       "      <th>0</th>\n",
       "      <td>When the young people returned to the ballroom...</td>\n",
       "      <td>-0.340259</td>\n",
       "    </tr>\n",
       "    <tr>\n",
       "      <th>1</th>\n",
       "      <td>All through dinner time, Mrs. Fayre was somewh...</td>\n",
       "      <td>-0.315372</td>\n",
       "    </tr>\n",
       "    <tr>\n",
       "      <th>2</th>\n",
       "      <td>As Roger had predicted, the snow departed as q...</td>\n",
       "      <td>-0.580118</td>\n",
       "    </tr>\n",
       "    <tr>\n",
       "      <th>3</th>\n",
       "      <td>And outside before the palace a great garden w...</td>\n",
       "      <td>-1.054013</td>\n",
       "    </tr>\n",
       "    <tr>\n",
       "      <th>4</th>\n",
       "      <td>Once upon a time there were Three Bears who li...</td>\n",
       "      <td>0.247197</td>\n",
       "    </tr>\n",
       "  </tbody>\n",
       "</table>\n",
       "</div>"
      ],
      "text/plain": [
       "                                             excerpt    target\n",
       "0  When the young people returned to the ballroom... -0.340259\n",
       "1  All through dinner time, Mrs. Fayre was somewh... -0.315372\n",
       "2  As Roger had predicted, the snow departed as q... -0.580118\n",
       "3  And outside before the palace a great garden w... -1.054013\n",
       "4  Once upon a time there were Three Bears who li...  0.247197"
      ]
     },
     "execution_count": 7,
     "metadata": {},
     "output_type": "execute_result"
    }
   ],
   "source": [
    "df.head()"
   ]
  },
  {
   "cell_type": "code",
   "execution_count": 8,
   "id": "c767ee66",
   "metadata": {},
   "outputs": [
    {
     "data": {
      "text/plain": [
       "excerpt    0\n",
       "target     0\n",
       "dtype: int64"
      ]
     },
     "execution_count": 8,
     "metadata": {},
     "output_type": "execute_result"
    }
   ],
   "source": [
    "df.isnull().sum()"
   ]
  },
  {
   "cell_type": "code",
   "execution_count": 9,
   "id": "e0ead712",
   "metadata": {},
   "outputs": [
    {
     "data": {
      "text/plain": [
       "(2834, 2)"
      ]
     },
     "execution_count": 9,
     "metadata": {},
     "output_type": "execute_result"
    }
   ],
   "source": [
    "df.shape"
   ]
  },
  {
   "cell_type": "code",
   "execution_count": 10,
   "id": "0936370c",
   "metadata": {},
   "outputs": [],
   "source": [
    "df = df.rename(columns={'excerpt':'data'})"
   ]
  },
  {
   "cell_type": "code",
   "execution_count": 11,
   "id": "912bfa39",
   "metadata": {},
   "outputs": [
    {
     "data": {
      "text/html": [
       "<div>\n",
       "<style scoped>\n",
       "    .dataframe tbody tr th:only-of-type {\n",
       "        vertical-align: middle;\n",
       "    }\n",
       "\n",
       "    .dataframe tbody tr th {\n",
       "        vertical-align: top;\n",
       "    }\n",
       "\n",
       "    .dataframe thead th {\n",
       "        text-align: right;\n",
       "    }\n",
       "</style>\n",
       "<table border=\"1\" class=\"dataframe\">\n",
       "  <thead>\n",
       "    <tr style=\"text-align: right;\">\n",
       "      <th></th>\n",
       "      <th>data</th>\n",
       "      <th>target</th>\n",
       "    </tr>\n",
       "  </thead>\n",
       "  <tbody>\n",
       "    <tr>\n",
       "      <th>0</th>\n",
       "      <td>When the young people returned to the ballroom...</td>\n",
       "      <td>-0.340259</td>\n",
       "    </tr>\n",
       "    <tr>\n",
       "      <th>1</th>\n",
       "      <td>All through dinner time, Mrs. Fayre was somewh...</td>\n",
       "      <td>-0.315372</td>\n",
       "    </tr>\n",
       "    <tr>\n",
       "      <th>2</th>\n",
       "      <td>As Roger had predicted, the snow departed as q...</td>\n",
       "      <td>-0.580118</td>\n",
       "    </tr>\n",
       "    <tr>\n",
       "      <th>3</th>\n",
       "      <td>And outside before the palace a great garden w...</td>\n",
       "      <td>-1.054013</td>\n",
       "    </tr>\n",
       "    <tr>\n",
       "      <th>4</th>\n",
       "      <td>Once upon a time there were Three Bears who li...</td>\n",
       "      <td>0.247197</td>\n",
       "    </tr>\n",
       "  </tbody>\n",
       "</table>\n",
       "</div>"
      ],
      "text/plain": [
       "                                                data    target\n",
       "0  When the young people returned to the ballroom... -0.340259\n",
       "1  All through dinner time, Mrs. Fayre was somewh... -0.315372\n",
       "2  As Roger had predicted, the snow departed as q... -0.580118\n",
       "3  And outside before the palace a great garden w... -1.054013\n",
       "4  Once upon a time there were Three Bears who li...  0.247197"
      ]
     },
     "execution_count": 11,
     "metadata": {},
     "output_type": "execute_result"
    }
   ],
   "source": [
    "df.head()"
   ]
  },
  {
   "cell_type": "code",
   "execution_count": null,
   "id": "34267f95",
   "metadata": {},
   "outputs": [],
   "source": []
  },
  {
   "cell_type": "markdown",
   "id": "978f9f18",
   "metadata": {},
   "source": [
    "#### Removing stopwords and punctuation marks"
   ]
  },
  {
   "cell_type": "code",
   "execution_count": 12,
   "id": "f9be353f",
   "metadata": {},
   "outputs": [],
   "source": [
    "import string"
   ]
  },
  {
   "cell_type": "code",
   "execution_count": 13,
   "id": "32b91e54",
   "metadata": {},
   "outputs": [
    {
     "data": {
      "text/plain": [
       "'!\"#$%&\\'()*+,-./:;<=>?@[\\\\]^_`{|}~'"
      ]
     },
     "execution_count": 13,
     "metadata": {},
     "output_type": "execute_result"
    }
   ],
   "source": [
    "string.punctuation"
   ]
  },
  {
   "cell_type": "code",
   "execution_count": 14,
   "id": "dde32929",
   "metadata": {},
   "outputs": [],
   "source": [
    "from nltk.corpus import stopwords\n",
    "\n",
    "from sklearn.feature_extraction.text import ENGLISH_STOP_WORDS\n",
    "\n",
    "import spacy\n",
    "import en_core_web_sm \n",
    "lang = spacy.load(\"en_core_web_sm\")  "
   ]
  },
  {
   "cell_type": "code",
   "execution_count": 15,
   "id": "16ed0af1",
   "metadata": {},
   "outputs": [],
   "source": [
    "l1 = list(stopwords.words('english'))\n",
    "l2 = list(ENGLISH_STOP_WORDS)\n",
    "l3 = list(lang.Defaults.stop_words)"
   ]
  },
  {
   "cell_type": "code",
   "execution_count": 16,
   "id": "d301c986",
   "metadata": {},
   "outputs": [],
   "source": [
    "l1.extend(l2)"
   ]
  },
  {
   "cell_type": "code",
   "execution_count": 17,
   "id": "b5f48670",
   "metadata": {},
   "outputs": [],
   "source": [
    "l1.extend(l3)"
   ]
  },
  {
   "cell_type": "code",
   "execution_count": 18,
   "id": "b5f3cec8",
   "metadata": {},
   "outputs": [
    {
     "data": {
      "text/plain": [
       "823"
      ]
     },
     "execution_count": 18,
     "metadata": {},
     "output_type": "execute_result"
    }
   ],
   "source": [
    "len(l1)"
   ]
  },
  {
   "cell_type": "code",
   "execution_count": 19,
   "id": "7acb91c2",
   "metadata": {},
   "outputs": [],
   "source": [
    "stop_words = set(l1)"
   ]
  },
  {
   "cell_type": "code",
   "execution_count": 21,
   "id": "42416a7d",
   "metadata": {},
   "outputs": [],
   "source": [
    "def text_process(mess):            ### creating a function\n",
    "    \"\"\"                                                        ## a docstring\n",
    "    1. remove the punctuation\n",
    "    2. remove the stopwords\n",
    "    3. return the list of clean textwords\n",
    "    \n",
    "    \"\"\"\n",
    "    nopunc = [char for char in mess if char  not in string.punctuation]\n",
    "    nopunc = \"\".join(nopunc)\n",
    "    \n",
    "    return [ word for word in nopunc.split() if word not in stop_words]"
   ]
  },
  {
   "cell_type": "code",
   "execution_count": null,
   "id": "6eaea197",
   "metadata": {},
   "outputs": [],
   "source": []
  },
  {
   "cell_type": "markdown",
   "id": "bad1fe46",
   "metadata": {},
   "source": [
    "#### Word Embedding"
   ]
  },
  {
   "cell_type": "code",
   "execution_count": 22,
   "id": "6cedd10e",
   "metadata": {},
   "outputs": [],
   "source": [
    "from sklearn.feature_extraction.text import CountVectorizer  "
   ]
  },
  {
   "cell_type": "code",
   "execution_count": 23,
   "id": "0bc6ee2a",
   "metadata": {},
   "outputs": [],
   "source": [
    "bow_transformer = CountVectorizer(analyzer= text_process).fit(df['data'])"
   ]
  },
  {
   "cell_type": "code",
   "execution_count": 24,
   "id": "9ed96b50",
   "metadata": {},
   "outputs": [],
   "source": [
    "tdm = bow_transformer.transform(df['data'])  ## creating TDM"
   ]
  },
  {
   "cell_type": "code",
   "execution_count": 25,
   "id": "cea287eb",
   "metadata": {},
   "outputs": [
    {
     "data": {
      "text/plain": [
       "(2834, 32904)"
      ]
     },
     "execution_count": 25,
     "metadata": {},
     "output_type": "execute_result"
    }
   ],
   "source": [
    "tdm.shape"
   ]
  },
  {
   "cell_type": "code",
   "execution_count": null,
   "id": "90eed4a6",
   "metadata": {},
   "outputs": [],
   "source": []
  },
  {
   "cell_type": "markdown",
   "id": "c5b46dea",
   "metadata": {},
   "source": [
    "#### Data  sampling"
   ]
  },
  {
   "cell_type": "code",
   "execution_count": 26,
   "id": "f88bd963",
   "metadata": {},
   "outputs": [],
   "source": [
    "from sklearn.model_selection import train_test_split\n",
    "\n",
    "train_x, test_x, train_y, test_y = train_test_split(tdm, df.target, test_size=.2)"
   ]
  },
  {
   "cell_type": "code",
   "execution_count": 27,
   "id": "a0f14ed4",
   "metadata": {},
   "outputs": [
    {
     "data": {
      "text/plain": [
       "(2267, 32904)"
      ]
     },
     "execution_count": 27,
     "metadata": {},
     "output_type": "execute_result"
    }
   ],
   "source": [
    "train_x.shape"
   ]
  },
  {
   "cell_type": "code",
   "execution_count": 28,
   "id": "7fea56a2",
   "metadata": {},
   "outputs": [
    {
     "data": {
      "text/plain": [
       "(2267,)"
      ]
     },
     "execution_count": 28,
     "metadata": {},
     "output_type": "execute_result"
    }
   ],
   "source": [
    "train_y.shape"
   ]
  },
  {
   "cell_type": "code",
   "execution_count": 29,
   "id": "48d3f477",
   "metadata": {},
   "outputs": [
    {
     "data": {
      "text/plain": [
       "17     -0.617733\n",
       "894    -0.898353\n",
       "1953   -0.121105\n",
       "1045    0.332933\n",
       "502     0.533262\n",
       "Name: target, dtype: float64"
      ]
     },
     "execution_count": 29,
     "metadata": {},
     "output_type": "execute_result"
    }
   ],
   "source": [
    "train_y.head()"
   ]
  },
  {
   "cell_type": "code",
   "execution_count": null,
   "id": "b827394f",
   "metadata": {},
   "outputs": [],
   "source": []
  },
  {
   "cell_type": "markdown",
   "id": "9916c9ba",
   "metadata": {},
   "source": [
    "#### Linear Regression "
   ]
  },
  {
   "cell_type": "code",
   "execution_count": 35,
   "id": "d35e81dc",
   "metadata": {},
   "outputs": [],
   "source": [
    "from sklearn.linear_model import LinearRegression\n",
    "lr = LinearRegression()"
   ]
  },
  {
   "cell_type": "code",
   "execution_count": 36,
   "id": "783b7f61",
   "metadata": {},
   "outputs": [
    {
     "data": {
      "text/html": [
       "<style>#sk-container-id-1 {color: black;background-color: white;}#sk-container-id-1 pre{padding: 0;}#sk-container-id-1 div.sk-toggleable {background-color: white;}#sk-container-id-1 label.sk-toggleable__label {cursor: pointer;display: block;width: 100%;margin-bottom: 0;padding: 0.3em;box-sizing: border-box;text-align: center;}#sk-container-id-1 label.sk-toggleable__label-arrow:before {content: \"▸\";float: left;margin-right: 0.25em;color: #696969;}#sk-container-id-1 label.sk-toggleable__label-arrow:hover:before {color: black;}#sk-container-id-1 div.sk-estimator:hover label.sk-toggleable__label-arrow:before {color: black;}#sk-container-id-1 div.sk-toggleable__content {max-height: 0;max-width: 0;overflow: hidden;text-align: left;background-color: #f0f8ff;}#sk-container-id-1 div.sk-toggleable__content pre {margin: 0.2em;color: black;border-radius: 0.25em;background-color: #f0f8ff;}#sk-container-id-1 input.sk-toggleable__control:checked~div.sk-toggleable__content {max-height: 200px;max-width: 100%;overflow: auto;}#sk-container-id-1 input.sk-toggleable__control:checked~label.sk-toggleable__label-arrow:before {content: \"▾\";}#sk-container-id-1 div.sk-estimator input.sk-toggleable__control:checked~label.sk-toggleable__label {background-color: #d4ebff;}#sk-container-id-1 div.sk-label input.sk-toggleable__control:checked~label.sk-toggleable__label {background-color: #d4ebff;}#sk-container-id-1 input.sk-hidden--visually {border: 0;clip: rect(1px 1px 1px 1px);clip: rect(1px, 1px, 1px, 1px);height: 1px;margin: -1px;overflow: hidden;padding: 0;position: absolute;width: 1px;}#sk-container-id-1 div.sk-estimator {font-family: monospace;background-color: #f0f8ff;border: 1px dotted black;border-radius: 0.25em;box-sizing: border-box;margin-bottom: 0.5em;}#sk-container-id-1 div.sk-estimator:hover {background-color: #d4ebff;}#sk-container-id-1 div.sk-parallel-item::after {content: \"\";width: 100%;border-bottom: 1px solid gray;flex-grow: 1;}#sk-container-id-1 div.sk-label:hover label.sk-toggleable__label {background-color: #d4ebff;}#sk-container-id-1 div.sk-serial::before {content: \"\";position: absolute;border-left: 1px solid gray;box-sizing: border-box;top: 0;bottom: 0;left: 50%;z-index: 0;}#sk-container-id-1 div.sk-serial {display: flex;flex-direction: column;align-items: center;background-color: white;padding-right: 0.2em;padding-left: 0.2em;position: relative;}#sk-container-id-1 div.sk-item {position: relative;z-index: 1;}#sk-container-id-1 div.sk-parallel {display: flex;align-items: stretch;justify-content: center;background-color: white;position: relative;}#sk-container-id-1 div.sk-item::before, #sk-container-id-1 div.sk-parallel-item::before {content: \"\";position: absolute;border-left: 1px solid gray;box-sizing: border-box;top: 0;bottom: 0;left: 50%;z-index: -1;}#sk-container-id-1 div.sk-parallel-item {display: flex;flex-direction: column;z-index: 1;position: relative;background-color: white;}#sk-container-id-1 div.sk-parallel-item:first-child::after {align-self: flex-end;width: 50%;}#sk-container-id-1 div.sk-parallel-item:last-child::after {align-self: flex-start;width: 50%;}#sk-container-id-1 div.sk-parallel-item:only-child::after {width: 0;}#sk-container-id-1 div.sk-dashed-wrapped {border: 1px dashed gray;margin: 0 0.4em 0.5em 0.4em;box-sizing: border-box;padding-bottom: 0.4em;background-color: white;}#sk-container-id-1 div.sk-label label {font-family: monospace;font-weight: bold;display: inline-block;line-height: 1.2em;}#sk-container-id-1 div.sk-label-container {text-align: center;}#sk-container-id-1 div.sk-container {/* jupyter's `normalize.less` sets `[hidden] { display: none; }` but bootstrap.min.css set `[hidden] { display: none !important; }` so we also need the `!important` here to be able to override the default hidden behavior on the sphinx rendered scikit-learn.org. See: https://github.com/scikit-learn/scikit-learn/issues/21755 */display: inline-block !important;position: relative;}#sk-container-id-1 div.sk-text-repr-fallback {display: none;}</style><div id=\"sk-container-id-1\" class=\"sk-top-container\"><div class=\"sk-text-repr-fallback\"><pre>LinearRegression()</pre><b>In a Jupyter environment, please rerun this cell to show the HTML representation or trust the notebook. <br />On GitHub, the HTML representation is unable to render, please try loading this page with nbviewer.org.</b></div><div class=\"sk-container\" hidden><div class=\"sk-item\"><div class=\"sk-estimator sk-toggleable\"><input class=\"sk-toggleable__control sk-hidden--visually\" id=\"sk-estimator-id-1\" type=\"checkbox\" checked><label for=\"sk-estimator-id-1\" class=\"sk-toggleable__label sk-toggleable__label-arrow\">LinearRegression</label><div class=\"sk-toggleable__content\"><pre>LinearRegression()</pre></div></div></div></div></div>"
      ],
      "text/plain": [
       "LinearRegression()"
      ]
     },
     "execution_count": 36,
     "metadata": {},
     "output_type": "execute_result"
    }
   ],
   "source": [
    "lr.fit(train_x, train_y)"
   ]
  },
  {
   "cell_type": "code",
   "execution_count": 37,
   "id": "138f9923",
   "metadata": {},
   "outputs": [
    {
     "data": {
      "text/plain": [
       "0.9998935619525472"
      ]
     },
     "execution_count": 37,
     "metadata": {},
     "output_type": "execute_result"
    }
   ],
   "source": [
    "lr.score(train_x, train_y)"
   ]
  },
  {
   "cell_type": "code",
   "execution_count": 38,
   "id": "5b2425a0",
   "metadata": {},
   "outputs": [
    {
     "name": "stdout",
     "output_type": "stream",
     "text": [
      "Value of AdjRsqure is 1.0000078722049588\n"
     ]
    }
   ],
   "source": [
    "Rsqu =lr.score(train_x  , train_y)\n",
    "N = train_x.shape[0] # NUMBER OF  records\n",
    "K = train_x.shape[1] # NUMBER OF X variable \n",
    "AdjRsqure  = 1  - (1-Rsqu)  * ( N-1) / (N-K-1)\n",
    "print(\"Value of AdjRsqure is\"  , AdjRsqure)\n"
   ]
  },
  {
   "cell_type": "code",
   "execution_count": 39,
   "id": "80456b87",
   "metadata": {},
   "outputs": [],
   "source": [
    "pred = lr.predict(test_x)"
   ]
  },
  {
   "cell_type": "code",
   "execution_count": 40,
   "id": "c95682bf",
   "metadata": {},
   "outputs": [],
   "source": [
    "from sklearn.metrics import mean_absolute_percentage_error, mean_squared_error"
   ]
  },
  {
   "cell_type": "code",
   "execution_count": 42,
   "id": "9246ac4f",
   "metadata": {},
   "outputs": [
    {
     "data": {
      "text/plain": [
       "0.7968608105996889"
      ]
     },
     "execution_count": 42,
     "metadata": {},
     "output_type": "execute_result"
    }
   ],
   "source": [
    "rmse_lr = np.sqrt(mean_squared_error(test_y, pred))\n",
    "rmse_lr"
   ]
  },
  {
   "cell_type": "code",
   "execution_count": null,
   "id": "6caa7f40",
   "metadata": {},
   "outputs": [],
   "source": []
  },
  {
   "cell_type": "markdown",
   "id": "3dda9789",
   "metadata": {},
   "source": [
    "#### Decision Tree Regressor"
   ]
  },
  {
   "cell_type": "code",
   "execution_count": 49,
   "id": "ef0d769a",
   "metadata": {},
   "outputs": [],
   "source": [
    "from sklearn.tree import DecisionTreeRegressor\n",
    "dt = DecisionTreeRegressor()"
   ]
  },
  {
   "cell_type": "code",
   "execution_count": 50,
   "id": "7b091d49",
   "metadata": {},
   "outputs": [
    {
     "data": {
      "text/html": [
       "<style>#sk-container-id-2 {color: black;background-color: white;}#sk-container-id-2 pre{padding: 0;}#sk-container-id-2 div.sk-toggleable {background-color: white;}#sk-container-id-2 label.sk-toggleable__label {cursor: pointer;display: block;width: 100%;margin-bottom: 0;padding: 0.3em;box-sizing: border-box;text-align: center;}#sk-container-id-2 label.sk-toggleable__label-arrow:before {content: \"▸\";float: left;margin-right: 0.25em;color: #696969;}#sk-container-id-2 label.sk-toggleable__label-arrow:hover:before {color: black;}#sk-container-id-2 div.sk-estimator:hover label.sk-toggleable__label-arrow:before {color: black;}#sk-container-id-2 div.sk-toggleable__content {max-height: 0;max-width: 0;overflow: hidden;text-align: left;background-color: #f0f8ff;}#sk-container-id-2 div.sk-toggleable__content pre {margin: 0.2em;color: black;border-radius: 0.25em;background-color: #f0f8ff;}#sk-container-id-2 input.sk-toggleable__control:checked~div.sk-toggleable__content {max-height: 200px;max-width: 100%;overflow: auto;}#sk-container-id-2 input.sk-toggleable__control:checked~label.sk-toggleable__label-arrow:before {content: \"▾\";}#sk-container-id-2 div.sk-estimator input.sk-toggleable__control:checked~label.sk-toggleable__label {background-color: #d4ebff;}#sk-container-id-2 div.sk-label input.sk-toggleable__control:checked~label.sk-toggleable__label {background-color: #d4ebff;}#sk-container-id-2 input.sk-hidden--visually {border: 0;clip: rect(1px 1px 1px 1px);clip: rect(1px, 1px, 1px, 1px);height: 1px;margin: -1px;overflow: hidden;padding: 0;position: absolute;width: 1px;}#sk-container-id-2 div.sk-estimator {font-family: monospace;background-color: #f0f8ff;border: 1px dotted black;border-radius: 0.25em;box-sizing: border-box;margin-bottom: 0.5em;}#sk-container-id-2 div.sk-estimator:hover {background-color: #d4ebff;}#sk-container-id-2 div.sk-parallel-item::after {content: \"\";width: 100%;border-bottom: 1px solid gray;flex-grow: 1;}#sk-container-id-2 div.sk-label:hover label.sk-toggleable__label {background-color: #d4ebff;}#sk-container-id-2 div.sk-serial::before {content: \"\";position: absolute;border-left: 1px solid gray;box-sizing: border-box;top: 0;bottom: 0;left: 50%;z-index: 0;}#sk-container-id-2 div.sk-serial {display: flex;flex-direction: column;align-items: center;background-color: white;padding-right: 0.2em;padding-left: 0.2em;position: relative;}#sk-container-id-2 div.sk-item {position: relative;z-index: 1;}#sk-container-id-2 div.sk-parallel {display: flex;align-items: stretch;justify-content: center;background-color: white;position: relative;}#sk-container-id-2 div.sk-item::before, #sk-container-id-2 div.sk-parallel-item::before {content: \"\";position: absolute;border-left: 1px solid gray;box-sizing: border-box;top: 0;bottom: 0;left: 50%;z-index: -1;}#sk-container-id-2 div.sk-parallel-item {display: flex;flex-direction: column;z-index: 1;position: relative;background-color: white;}#sk-container-id-2 div.sk-parallel-item:first-child::after {align-self: flex-end;width: 50%;}#sk-container-id-2 div.sk-parallel-item:last-child::after {align-self: flex-start;width: 50%;}#sk-container-id-2 div.sk-parallel-item:only-child::after {width: 0;}#sk-container-id-2 div.sk-dashed-wrapped {border: 1px dashed gray;margin: 0 0.4em 0.5em 0.4em;box-sizing: border-box;padding-bottom: 0.4em;background-color: white;}#sk-container-id-2 div.sk-label label {font-family: monospace;font-weight: bold;display: inline-block;line-height: 1.2em;}#sk-container-id-2 div.sk-label-container {text-align: center;}#sk-container-id-2 div.sk-container {/* jupyter's `normalize.less` sets `[hidden] { display: none; }` but bootstrap.min.css set `[hidden] { display: none !important; }` so we also need the `!important` here to be able to override the default hidden behavior on the sphinx rendered scikit-learn.org. See: https://github.com/scikit-learn/scikit-learn/issues/21755 */display: inline-block !important;position: relative;}#sk-container-id-2 div.sk-text-repr-fallback {display: none;}</style><div id=\"sk-container-id-2\" class=\"sk-top-container\"><div class=\"sk-text-repr-fallback\"><pre>DecisionTreeRegressor()</pre><b>In a Jupyter environment, please rerun this cell to show the HTML representation or trust the notebook. <br />On GitHub, the HTML representation is unable to render, please try loading this page with nbviewer.org.</b></div><div class=\"sk-container\" hidden><div class=\"sk-item\"><div class=\"sk-estimator sk-toggleable\"><input class=\"sk-toggleable__control sk-hidden--visually\" id=\"sk-estimator-id-2\" type=\"checkbox\" checked><label for=\"sk-estimator-id-2\" class=\"sk-toggleable__label sk-toggleable__label-arrow\">DecisionTreeRegressor</label><div class=\"sk-toggleable__content\"><pre>DecisionTreeRegressor()</pre></div></div></div></div></div>"
      ],
      "text/plain": [
       "DecisionTreeRegressor()"
      ]
     },
     "execution_count": 50,
     "metadata": {},
     "output_type": "execute_result"
    }
   ],
   "source": [
    "dt.fit(train_x, train_y)"
   ]
  },
  {
   "cell_type": "code",
   "execution_count": 51,
   "id": "f24dab23",
   "metadata": {},
   "outputs": [
    {
     "data": {
      "text/plain": [
       "0.9998935619525472"
      ]
     },
     "execution_count": 51,
     "metadata": {},
     "output_type": "execute_result"
    }
   ],
   "source": [
    "dt.score(train_x, train_y)"
   ]
  },
  {
   "cell_type": "code",
   "execution_count": 52,
   "id": "2dff08f7",
   "metadata": {},
   "outputs": [],
   "source": [
    "pred_dt = dt.predict(test_x)"
   ]
  },
  {
   "cell_type": "code",
   "execution_count": 55,
   "id": "ad184f40",
   "metadata": {},
   "outputs": [
    {
     "data": {
      "text/plain": [
       "1.105567618666046"
      ]
     },
     "execution_count": 55,
     "metadata": {},
     "output_type": "execute_result"
    }
   ],
   "source": [
    "rmse_dt = np.sqrt(mean_squared_error(test_y, pred_dt))\n",
    "rmse_dt"
   ]
  },
  {
   "cell_type": "code",
   "execution_count": null,
   "id": "89a0ed75",
   "metadata": {},
   "outputs": [],
   "source": []
  },
  {
   "cell_type": "markdown",
   "id": "4f5c9566",
   "metadata": {},
   "source": [
    "#### Random forest regressor"
   ]
  },
  {
   "cell_type": "code",
   "execution_count": 57,
   "id": "7cbe5c45",
   "metadata": {},
   "outputs": [],
   "source": [
    "from sklearn.ensemble import RandomForestRegressor\n",
    "rfr = RandomForestRegressor()"
   ]
  },
  {
   "cell_type": "code",
   "execution_count": 58,
   "id": "8f7a335d",
   "metadata": {},
   "outputs": [
    {
     "data": {
      "text/html": [
       "<style>#sk-container-id-3 {color: black;background-color: white;}#sk-container-id-3 pre{padding: 0;}#sk-container-id-3 div.sk-toggleable {background-color: white;}#sk-container-id-3 label.sk-toggleable__label {cursor: pointer;display: block;width: 100%;margin-bottom: 0;padding: 0.3em;box-sizing: border-box;text-align: center;}#sk-container-id-3 label.sk-toggleable__label-arrow:before {content: \"▸\";float: left;margin-right: 0.25em;color: #696969;}#sk-container-id-3 label.sk-toggleable__label-arrow:hover:before {color: black;}#sk-container-id-3 div.sk-estimator:hover label.sk-toggleable__label-arrow:before {color: black;}#sk-container-id-3 div.sk-toggleable__content {max-height: 0;max-width: 0;overflow: hidden;text-align: left;background-color: #f0f8ff;}#sk-container-id-3 div.sk-toggleable__content pre {margin: 0.2em;color: black;border-radius: 0.25em;background-color: #f0f8ff;}#sk-container-id-3 input.sk-toggleable__control:checked~div.sk-toggleable__content {max-height: 200px;max-width: 100%;overflow: auto;}#sk-container-id-3 input.sk-toggleable__control:checked~label.sk-toggleable__label-arrow:before {content: \"▾\";}#sk-container-id-3 div.sk-estimator input.sk-toggleable__control:checked~label.sk-toggleable__label {background-color: #d4ebff;}#sk-container-id-3 div.sk-label input.sk-toggleable__control:checked~label.sk-toggleable__label {background-color: #d4ebff;}#sk-container-id-3 input.sk-hidden--visually {border: 0;clip: rect(1px 1px 1px 1px);clip: rect(1px, 1px, 1px, 1px);height: 1px;margin: -1px;overflow: hidden;padding: 0;position: absolute;width: 1px;}#sk-container-id-3 div.sk-estimator {font-family: monospace;background-color: #f0f8ff;border: 1px dotted black;border-radius: 0.25em;box-sizing: border-box;margin-bottom: 0.5em;}#sk-container-id-3 div.sk-estimator:hover {background-color: #d4ebff;}#sk-container-id-3 div.sk-parallel-item::after {content: \"\";width: 100%;border-bottom: 1px solid gray;flex-grow: 1;}#sk-container-id-3 div.sk-label:hover label.sk-toggleable__label {background-color: #d4ebff;}#sk-container-id-3 div.sk-serial::before {content: \"\";position: absolute;border-left: 1px solid gray;box-sizing: border-box;top: 0;bottom: 0;left: 50%;z-index: 0;}#sk-container-id-3 div.sk-serial {display: flex;flex-direction: column;align-items: center;background-color: white;padding-right: 0.2em;padding-left: 0.2em;position: relative;}#sk-container-id-3 div.sk-item {position: relative;z-index: 1;}#sk-container-id-3 div.sk-parallel {display: flex;align-items: stretch;justify-content: center;background-color: white;position: relative;}#sk-container-id-3 div.sk-item::before, #sk-container-id-3 div.sk-parallel-item::before {content: \"\";position: absolute;border-left: 1px solid gray;box-sizing: border-box;top: 0;bottom: 0;left: 50%;z-index: -1;}#sk-container-id-3 div.sk-parallel-item {display: flex;flex-direction: column;z-index: 1;position: relative;background-color: white;}#sk-container-id-3 div.sk-parallel-item:first-child::after {align-self: flex-end;width: 50%;}#sk-container-id-3 div.sk-parallel-item:last-child::after {align-self: flex-start;width: 50%;}#sk-container-id-3 div.sk-parallel-item:only-child::after {width: 0;}#sk-container-id-3 div.sk-dashed-wrapped {border: 1px dashed gray;margin: 0 0.4em 0.5em 0.4em;box-sizing: border-box;padding-bottom: 0.4em;background-color: white;}#sk-container-id-3 div.sk-label label {font-family: monospace;font-weight: bold;display: inline-block;line-height: 1.2em;}#sk-container-id-3 div.sk-label-container {text-align: center;}#sk-container-id-3 div.sk-container {/* jupyter's `normalize.less` sets `[hidden] { display: none; }` but bootstrap.min.css set `[hidden] { display: none !important; }` so we also need the `!important` here to be able to override the default hidden behavior on the sphinx rendered scikit-learn.org. See: https://github.com/scikit-learn/scikit-learn/issues/21755 */display: inline-block !important;position: relative;}#sk-container-id-3 div.sk-text-repr-fallback {display: none;}</style><div id=\"sk-container-id-3\" class=\"sk-top-container\"><div class=\"sk-text-repr-fallback\"><pre>RandomForestRegressor()</pre><b>In a Jupyter environment, please rerun this cell to show the HTML representation or trust the notebook. <br />On GitHub, the HTML representation is unable to render, please try loading this page with nbviewer.org.</b></div><div class=\"sk-container\" hidden><div class=\"sk-item\"><div class=\"sk-estimator sk-toggleable\"><input class=\"sk-toggleable__control sk-hidden--visually\" id=\"sk-estimator-id-3\" type=\"checkbox\" checked><label for=\"sk-estimator-id-3\" class=\"sk-toggleable__label sk-toggleable__label-arrow\">RandomForestRegressor</label><div class=\"sk-toggleable__content\"><pre>RandomForestRegressor()</pre></div></div></div></div></div>"
      ],
      "text/plain": [
       "RandomForestRegressor()"
      ]
     },
     "execution_count": 58,
     "metadata": {},
     "output_type": "execute_result"
    }
   ],
   "source": [
    "rfr.fit(train_x, train_y)"
   ]
  },
  {
   "cell_type": "code",
   "execution_count": 59,
   "id": "fedea986",
   "metadata": {},
   "outputs": [
    {
     "data": {
      "text/plain": [
       "0.9067003430140727"
      ]
     },
     "execution_count": 59,
     "metadata": {},
     "output_type": "execute_result"
    }
   ],
   "source": [
    "rfr.score(train_x, train_y)"
   ]
  },
  {
   "cell_type": "code",
   "execution_count": 60,
   "id": "22016450",
   "metadata": {},
   "outputs": [],
   "source": [
    "pred_rfr = rfr.predict(test_x)"
   ]
  },
  {
   "cell_type": "code",
   "execution_count": 63,
   "id": "c93b1535",
   "metadata": {},
   "outputs": [
    {
     "data": {
      "text/plain": [
       "0.8753753629489911"
      ]
     },
     "execution_count": 63,
     "metadata": {},
     "output_type": "execute_result"
    }
   ],
   "source": [
    "rmse_rfr = np.sqrt(mean_squared_error(test_y, pred_rfr))\n",
    "rmse_rfr"
   ]
  },
  {
   "cell_type": "code",
   "execution_count": null,
   "id": "927b09fe",
   "metadata": {},
   "outputs": [],
   "source": []
  },
  {
   "cell_type": "code",
   "execution_count": null,
   "id": "681e6c62",
   "metadata": {},
   "outputs": [],
   "source": []
  },
  {
   "cell_type": "markdown",
   "id": "7b4249e8",
   "metadata": {},
   "source": [
    "#### Cat boost regressor"
   ]
  },
  {
   "cell_type": "code",
   "execution_count": 66,
   "id": "93a776b6",
   "metadata": {},
   "outputs": [],
   "source": [
    "from catboost import CatBoostRegressor"
   ]
  },
  {
   "cell_type": "code",
   "execution_count": 67,
   "id": "91fd535e",
   "metadata": {},
   "outputs": [],
   "source": [
    "cbc = CatBoostRegressor(max_depth=10)"
   ]
  },
  {
   "cell_type": "code",
   "execution_count": 68,
   "id": "0d89b79d",
   "metadata": {},
   "outputs": [
    {
     "name": "stdout",
     "output_type": "stream",
     "text": [
      "Learning rate set to 0.046595\n",
      "0:\tlearn: 1.0129429\ttotal: 1.12s\tremaining: 18m 35s\n",
      "1:\tlearn: 1.0067684\ttotal: 2.1s\tremaining: 17m 29s\n",
      "2:\tlearn: 1.0021871\ttotal: 3.01s\tremaining: 16m 40s\n",
      "3:\tlearn: 0.9974316\ttotal: 3.75s\tremaining: 15m 33s\n",
      "4:\tlearn: 0.9942580\ttotal: 4.7s\tremaining: 15m 35s\n",
      "5:\tlearn: 0.9896631\ttotal: 5.88s\tremaining: 16m 14s\n",
      "6:\tlearn: 0.9849712\ttotal: 6.61s\tremaining: 15m 38s\n",
      "7:\tlearn: 0.9806875\ttotal: 7.33s\tremaining: 15m 9s\n",
      "8:\tlearn: 0.9774552\ttotal: 8.08s\tremaining: 14m 49s\n",
      "9:\tlearn: 0.9733791\ttotal: 8.83s\tremaining: 14m 34s\n",
      "10:\tlearn: 0.9691445\ttotal: 9.58s\tremaining: 14m 21s\n",
      "11:\tlearn: 0.9647127\ttotal: 10.3s\tremaining: 14m 11s\n",
      "12:\tlearn: 0.9607148\ttotal: 11.1s\tremaining: 14m 1s\n",
      "13:\tlearn: 0.9570465\ttotal: 11.8s\tremaining: 13m 51s\n",
      "14:\tlearn: 0.9539382\ttotal: 12.6s\tremaining: 13m 44s\n",
      "15:\tlearn: 0.9507734\ttotal: 13.3s\tremaining: 13m 39s\n",
      "16:\tlearn: 0.9474238\ttotal: 14.1s\tremaining: 13m 34s\n",
      "17:\tlearn: 0.9447552\ttotal: 14.9s\tremaining: 13m 32s\n",
      "18:\tlearn: 0.9410732\ttotal: 15.7s\tremaining: 13m 29s\n",
      "19:\tlearn: 0.9377090\ttotal: 16.4s\tremaining: 13m 25s\n",
      "20:\tlearn: 0.9342727\ttotal: 17.2s\tremaining: 13m 20s\n",
      "21:\tlearn: 0.9314390\ttotal: 17.9s\tremaining: 13m 16s\n",
      "22:\tlearn: 0.9291604\ttotal: 18.6s\tremaining: 13m 11s\n",
      "23:\tlearn: 0.9263607\ttotal: 19.4s\tremaining: 13m 9s\n",
      "24:\tlearn: 0.9241102\ttotal: 20.2s\tremaining: 13m 6s\n",
      "25:\tlearn: 0.9218465\ttotal: 20.9s\tremaining: 13m 4s\n",
      "26:\tlearn: 0.9192494\ttotal: 21.7s\tremaining: 13m 3s\n",
      "27:\tlearn: 0.9163014\ttotal: 22.5s\tremaining: 13m\n",
      "28:\tlearn: 0.9139100\ttotal: 23.2s\tremaining: 12m 57s\n",
      "29:\tlearn: 0.9115789\ttotal: 24s\tremaining: 12m 55s\n",
      "30:\tlearn: 0.9093136\ttotal: 24.7s\tremaining: 12m 52s\n",
      "31:\tlearn: 0.9071837\ttotal: 25.4s\tremaining: 12m 49s\n",
      "32:\tlearn: 0.9051483\ttotal: 26.2s\tremaining: 12m 47s\n",
      "33:\tlearn: 0.9027609\ttotal: 26.9s\tremaining: 12m 45s\n",
      "34:\tlearn: 0.9002506\ttotal: 27.7s\tremaining: 12m 43s\n",
      "35:\tlearn: 0.8977642\ttotal: 28.4s\tremaining: 12m 40s\n",
      "36:\tlearn: 0.8957867\ttotal: 29.1s\tremaining: 12m 38s\n",
      "37:\tlearn: 0.8936576\ttotal: 29.9s\tremaining: 12m 36s\n",
      "38:\tlearn: 0.8919538\ttotal: 30.6s\tremaining: 12m 35s\n",
      "39:\tlearn: 0.8897176\ttotal: 31.4s\tremaining: 12m 33s\n",
      "40:\tlearn: 0.8880189\ttotal: 32.2s\tremaining: 12m 33s\n",
      "41:\tlearn: 0.8857426\ttotal: 33s\tremaining: 12m 31s\n",
      "42:\tlearn: 0.8844414\ttotal: 33.7s\tremaining: 12m 29s\n",
      "43:\tlearn: 0.8828443\ttotal: 34.4s\tremaining: 12m 27s\n",
      "44:\tlearn: 0.8812551\ttotal: 35.3s\tremaining: 12m 28s\n",
      "45:\tlearn: 0.8797941\ttotal: 36s\tremaining: 12m 26s\n",
      "46:\tlearn: 0.8783618\ttotal: 36.7s\tremaining: 12m 24s\n",
      "47:\tlearn: 0.8764265\ttotal: 37.5s\tremaining: 12m 22s\n",
      "48:\tlearn: 0.8747293\ttotal: 38.2s\tremaining: 12m 21s\n",
      "49:\tlearn: 0.8733254\ttotal: 38.9s\tremaining: 12m 19s\n",
      "50:\tlearn: 0.8717496\ttotal: 39.9s\tremaining: 12m 22s\n",
      "51:\tlearn: 0.8697536\ttotal: 40.7s\tremaining: 12m 21s\n",
      "52:\tlearn: 0.8687485\ttotal: 41.4s\tremaining: 12m 19s\n",
      "53:\tlearn: 0.8668153\ttotal: 42.1s\tremaining: 12m 18s\n",
      "54:\tlearn: 0.8652195\ttotal: 42.9s\tremaining: 12m 17s\n",
      "55:\tlearn: 0.8637550\ttotal: 43.6s\tremaining: 12m 15s\n",
      "56:\tlearn: 0.8619661\ttotal: 44.4s\tremaining: 12m 14s\n",
      "57:\tlearn: 0.8604921\ttotal: 45.1s\tremaining: 12m 12s\n",
      "58:\tlearn: 0.8591200\ttotal: 45.9s\tremaining: 12m 11s\n",
      "59:\tlearn: 0.8575600\ttotal: 46.6s\tremaining: 12m 10s\n",
      "60:\tlearn: 0.8566499\ttotal: 47.3s\tremaining: 12m 8s\n",
      "61:\tlearn: 0.8551079\ttotal: 48.1s\tremaining: 12m 7s\n",
      "62:\tlearn: 0.8536300\ttotal: 48.8s\tremaining: 12m 5s\n",
      "63:\tlearn: 0.8528279\ttotal: 49.5s\tremaining: 12m 4s\n",
      "64:\tlearn: 0.8514471\ttotal: 50.3s\tremaining: 12m 3s\n",
      "65:\tlearn: 0.8497545\ttotal: 51s\tremaining: 12m 1s\n",
      "66:\tlearn: 0.8486306\ttotal: 51.7s\tremaining: 12m\n",
      "67:\tlearn: 0.8471375\ttotal: 52.5s\tremaining: 11m 59s\n",
      "68:\tlearn: 0.8459467\ttotal: 53.2s\tremaining: 11m 57s\n",
      "69:\tlearn: 0.8446708\ttotal: 53.9s\tremaining: 11m 56s\n",
      "70:\tlearn: 0.8435019\ttotal: 54.7s\tremaining: 11m 55s\n",
      "71:\tlearn: 0.8423224\ttotal: 55.4s\tremaining: 11m 53s\n",
      "72:\tlearn: 0.8407466\ttotal: 56.1s\tremaining: 11m 52s\n",
      "73:\tlearn: 0.8400232\ttotal: 56.9s\tremaining: 11m 51s\n",
      "74:\tlearn: 0.8389953\ttotal: 57.6s\tremaining: 11m 50s\n",
      "75:\tlearn: 0.8378657\ttotal: 58.3s\tremaining: 11m 49s\n",
      "76:\tlearn: 0.8368226\ttotal: 59.1s\tremaining: 11m 48s\n",
      "77:\tlearn: 0.8355078\ttotal: 59.8s\tremaining: 11m 46s\n",
      "78:\tlearn: 0.8343985\ttotal: 1m\tremaining: 11m 45s\n",
      "79:\tlearn: 0.8331011\ttotal: 1m 1s\tremaining: 11m 44s\n",
      "80:\tlearn: 0.8315488\ttotal: 1m 2s\tremaining: 11m 43s\n",
      "81:\tlearn: 0.8303049\ttotal: 1m 2s\tremaining: 11m 42s\n",
      "82:\tlearn: 0.8293443\ttotal: 1m 3s\tremaining: 11m 41s\n",
      "83:\tlearn: 0.8280874\ttotal: 1m 4s\tremaining: 11m 39s\n",
      "84:\tlearn: 0.8269023\ttotal: 1m 4s\tremaining: 11m 38s\n",
      "85:\tlearn: 0.8256506\ttotal: 1m 5s\tremaining: 11m 37s\n",
      "86:\tlearn: 0.8238570\ttotal: 1m 6s\tremaining: 11m 36s\n",
      "87:\tlearn: 0.8228060\ttotal: 1m 7s\tremaining: 11m 35s\n",
      "88:\tlearn: 0.8215825\ttotal: 1m 7s\tremaining: 11m 34s\n",
      "89:\tlearn: 0.8205324\ttotal: 1m 8s\tremaining: 11m 33s\n",
      "90:\tlearn: 0.8193555\ttotal: 1m 9s\tremaining: 11m 32s\n",
      "91:\tlearn: 0.8184609\ttotal: 1m 10s\tremaining: 11m 31s\n",
      "92:\tlearn: 0.8177598\ttotal: 1m 10s\tremaining: 11m 30s\n",
      "93:\tlearn: 0.8165577\ttotal: 1m 11s\tremaining: 11m 29s\n",
      "94:\tlearn: 0.8154969\ttotal: 1m 12s\tremaining: 11m 28s\n",
      "95:\tlearn: 0.8142056\ttotal: 1m 12s\tremaining: 11m 24s\n",
      "96:\tlearn: 0.8131001\ttotal: 1m 13s\tremaining: 11m 23s\n",
      "97:\tlearn: 0.8121839\ttotal: 1m 14s\tremaining: 11m 22s\n",
      "98:\tlearn: 0.8109080\ttotal: 1m 14s\tremaining: 11m 21s\n",
      "99:\tlearn: 0.8103663\ttotal: 1m 15s\tremaining: 11m 20s\n",
      "100:\tlearn: 0.8092621\ttotal: 1m 16s\tremaining: 11m 19s\n",
      "101:\tlearn: 0.8082684\ttotal: 1m 17s\tremaining: 11m 18s\n",
      "102:\tlearn: 0.8080220\ttotal: 1m 17s\tremaining: 11m 17s\n",
      "103:\tlearn: 0.8073981\ttotal: 1m 18s\tremaining: 11m 16s\n",
      "104:\tlearn: 0.8065544\ttotal: 1m 19s\tremaining: 11m 15s\n",
      "105:\tlearn: 0.8055042\ttotal: 1m 20s\tremaining: 11m 14s\n",
      "106:\tlearn: 0.8044604\ttotal: 1m 20s\tremaining: 11m 14s\n",
      "107:\tlearn: 0.8035376\ttotal: 1m 21s\tremaining: 11m 13s\n",
      "108:\tlearn: 0.8029692\ttotal: 1m 22s\tremaining: 11m 12s\n",
      "109:\tlearn: 0.8021843\ttotal: 1m 22s\tremaining: 11m 11s\n",
      "110:\tlearn: 0.8009297\ttotal: 1m 23s\tremaining: 11m 10s\n",
      "111:\tlearn: 0.7995095\ttotal: 1m 24s\tremaining: 11m 9s\n",
      "112:\tlearn: 0.7983246\ttotal: 1m 25s\tremaining: 11m 8s\n",
      "113:\tlearn: 0.7977548\ttotal: 1m 25s\tremaining: 11m 7s\n",
      "114:\tlearn: 0.7971446\ttotal: 1m 26s\tremaining: 11m 6s\n",
      "115:\tlearn: 0.7960224\ttotal: 1m 27s\tremaining: 11m 5s\n",
      "116:\tlearn: 0.7953950\ttotal: 1m 28s\tremaining: 11m 4s\n",
      "117:\tlearn: 0.7947784\ttotal: 1m 28s\tremaining: 11m 3s\n",
      "118:\tlearn: 0.7940508\ttotal: 1m 29s\tremaining: 11m 2s\n",
      "119:\tlearn: 0.7932648\ttotal: 1m 30s\tremaining: 11m 2s\n",
      "120:\tlearn: 0.7920960\ttotal: 1m 31s\tremaining: 11m 1s\n",
      "121:\tlearn: 0.7910265\ttotal: 1m 31s\tremaining: 11m\n",
      "122:\tlearn: 0.7900852\ttotal: 1m 32s\tremaining: 10m 59s\n",
      "123:\tlearn: 0.7894322\ttotal: 1m 33s\tremaining: 10m 58s\n",
      "124:\tlearn: 0.7885360\ttotal: 1m 33s\tremaining: 10m 57s\n",
      "125:\tlearn: 0.7873382\ttotal: 1m 34s\tremaining: 10m 56s\n",
      "126:\tlearn: 0.7866966\ttotal: 1m 35s\tremaining: 10m 55s\n",
      "127:\tlearn: 0.7860497\ttotal: 1m 36s\tremaining: 10m 55s\n",
      "128:\tlearn: 0.7848702\ttotal: 1m 36s\tremaining: 10m 54s\n",
      "129:\tlearn: 0.7838784\ttotal: 1m 37s\tremaining: 10m 53s\n",
      "130:\tlearn: 0.7832908\ttotal: 1m 38s\tremaining: 10m 52s\n",
      "131:\tlearn: 0.7826134\ttotal: 1m 39s\tremaining: 10m 52s\n",
      "132:\tlearn: 0.7816913\ttotal: 1m 39s\tremaining: 10m 51s\n",
      "133:\tlearn: 0.7814287\ttotal: 1m 40s\tremaining: 10m 50s\n",
      "134:\tlearn: 0.7807306\ttotal: 1m 41s\tremaining: 10m 49s\n",
      "135:\tlearn: 0.7798429\ttotal: 1m 42s\tremaining: 10m 48s\n",
      "136:\tlearn: 0.7789477\ttotal: 1m 42s\tremaining: 10m 48s\n",
      "137:\tlearn: 0.7780718\ttotal: 1m 43s\tremaining: 10m 47s\n",
      "138:\tlearn: 0.7773126\ttotal: 1m 44s\tremaining: 10m 46s\n",
      "139:\tlearn: 0.7761862\ttotal: 1m 45s\tremaining: 10m 45s\n",
      "140:\tlearn: 0.7751806\ttotal: 1m 45s\tremaining: 10m 44s\n",
      "141:\tlearn: 0.7742128\ttotal: 1m 46s\tremaining: 10m 44s\n",
      "142:\tlearn: 0.7733045\ttotal: 1m 47s\tremaining: 10m 43s\n",
      "143:\tlearn: 0.7720711\ttotal: 1m 48s\tremaining: 10m 42s\n",
      "144:\tlearn: 0.7711725\ttotal: 1m 48s\tremaining: 10m 41s\n",
      "145:\tlearn: 0.7702265\ttotal: 1m 49s\tremaining: 10m 40s\n",
      "146:\tlearn: 0.7691837\ttotal: 1m 50s\tremaining: 10m 39s\n",
      "147:\tlearn: 0.7683841\ttotal: 1m 50s\tremaining: 10m 38s\n",
      "148:\tlearn: 0.7672409\ttotal: 1m 51s\tremaining: 10m 37s\n",
      "149:\tlearn: 0.7664355\ttotal: 1m 52s\tremaining: 10m 39s\n",
      "150:\tlearn: 0.7655122\ttotal: 1m 53s\tremaining: 10m 39s\n",
      "151:\tlearn: 0.7648320\ttotal: 1m 54s\tremaining: 10m 38s\n",
      "152:\tlearn: 0.7638351\ttotal: 1m 55s\tremaining: 10m 37s\n",
      "153:\tlearn: 0.7626986\ttotal: 1m 55s\tremaining: 10m 36s\n",
      "154:\tlearn: 0.7618214\ttotal: 1m 56s\tremaining: 10m 35s\n",
      "155:\tlearn: 0.7609578\ttotal: 1m 57s\tremaining: 10m 34s\n",
      "156:\tlearn: 0.7600230\ttotal: 1m 58s\tremaining: 10m 33s\n",
      "157:\tlearn: 0.7591582\ttotal: 1m 58s\tremaining: 10m 33s\n",
      "158:\tlearn: 0.7581911\ttotal: 1m 59s\tremaining: 10m 32s\n",
      "159:\tlearn: 0.7570091\ttotal: 2m\tremaining: 10m 31s\n",
      "160:\tlearn: 0.7554467\ttotal: 2m\tremaining: 10m 30s\n",
      "161:\tlearn: 0.7545950\ttotal: 2m 1s\tremaining: 10m 29s\n",
      "162:\tlearn: 0.7528217\ttotal: 2m 2s\tremaining: 10m 28s\n",
      "163:\tlearn: 0.7518573\ttotal: 2m 3s\tremaining: 10m 28s\n",
      "164:\tlearn: 0.7508985\ttotal: 2m 3s\tremaining: 10m 27s\n",
      "165:\tlearn: 0.7497045\ttotal: 2m 4s\tremaining: 10m 26s\n",
      "166:\tlearn: 0.7486666\ttotal: 2m 5s\tremaining: 10m 25s\n",
      "167:\tlearn: 0.7476471\ttotal: 2m 6s\tremaining: 10m 24s\n",
      "168:\tlearn: 0.7460679\ttotal: 2m 6s\tremaining: 10m 23s\n",
      "169:\tlearn: 0.7449836\ttotal: 2m 7s\tremaining: 10m 22s\n",
      "170:\tlearn: 0.7441429\ttotal: 2m 8s\tremaining: 10m 21s\n",
      "171:\tlearn: 0.7428350\ttotal: 2m 9s\tremaining: 10m 21s\n",
      "172:\tlearn: 0.7419412\ttotal: 2m 9s\tremaining: 10m 20s\n",
      "173:\tlearn: 0.7404695\ttotal: 2m 10s\tremaining: 10m 19s\n",
      "174:\tlearn: 0.7399146\ttotal: 2m 11s\tremaining: 10m 18s\n",
      "175:\tlearn: 0.7392842\ttotal: 2m 11s\tremaining: 10m 17s\n",
      "176:\tlearn: 0.7382168\ttotal: 2m 12s\tremaining: 10m 16s\n",
      "177:\tlearn: 0.7374121\ttotal: 2m 13s\tremaining: 10m 16s\n",
      "178:\tlearn: 0.7360435\ttotal: 2m 14s\tremaining: 10m 15s\n",
      "179:\tlearn: 0.7350895\ttotal: 2m 15s\tremaining: 10m 15s\n",
      "180:\tlearn: 0.7338962\ttotal: 2m 15s\tremaining: 10m 14s\n",
      "181:\tlearn: 0.7333934\ttotal: 2m 16s\tremaining: 10m 13s\n",
      "182:\tlearn: 0.7324015\ttotal: 2m 17s\tremaining: 10m 12s\n",
      "183:\tlearn: 0.7308742\ttotal: 2m 17s\tremaining: 10m 11s\n",
      "184:\tlearn: 0.7293498\ttotal: 2m 18s\tremaining: 10m 11s\n",
      "185:\tlearn: 0.7282249\ttotal: 2m 19s\tremaining: 10m 10s\n",
      "186:\tlearn: 0.7269805\ttotal: 2m 20s\tremaining: 10m 9s\n",
      "187:\tlearn: 0.7259751\ttotal: 2m 20s\tremaining: 10m 8s\n",
      "188:\tlearn: 0.7250742\ttotal: 2m 21s\tremaining: 10m 7s\n",
      "189:\tlearn: 0.7237929\ttotal: 2m 22s\tremaining: 10m 7s\n",
      "190:\tlearn: 0.7227906\ttotal: 2m 23s\tremaining: 10m 6s\n",
      "191:\tlearn: 0.7217835\ttotal: 2m 23s\tremaining: 10m 5s\n",
      "192:\tlearn: 0.7206582\ttotal: 2m 24s\tremaining: 10m 4s\n",
      "193:\tlearn: 0.7194894\ttotal: 2m 25s\tremaining: 10m 3s\n",
      "194:\tlearn: 0.7181610\ttotal: 2m 26s\tremaining: 10m 2s\n",
      "195:\tlearn: 0.7176345\ttotal: 2m 26s\tremaining: 10m 2s\n",
      "196:\tlearn: 0.7162257\ttotal: 2m 27s\tremaining: 10m 1s\n",
      "197:\tlearn: 0.7152033\ttotal: 2m 28s\tremaining: 10m\n",
      "198:\tlearn: 0.7135540\ttotal: 2m 28s\tremaining: 9m 59s\n",
      "199:\tlearn: 0.7120416\ttotal: 2m 29s\tremaining: 9m 58s\n",
      "200:\tlearn: 0.7113815\ttotal: 2m 30s\tremaining: 9m 57s\n",
      "201:\tlearn: 0.7097190\ttotal: 2m 31s\tremaining: 9m 57s\n",
      "202:\tlearn: 0.7083814\ttotal: 2m 31s\tremaining: 9m 56s\n",
      "203:\tlearn: 0.7073349\ttotal: 2m 32s\tremaining: 9m 55s\n",
      "204:\tlearn: 0.7062339\ttotal: 2m 33s\tremaining: 9m 54s\n",
      "205:\tlearn: 0.7047646\ttotal: 2m 34s\tremaining: 9m 53s\n",
      "206:\tlearn: 0.7039602\ttotal: 2m 34s\tremaining: 9m 52s\n",
      "207:\tlearn: 0.7028154\ttotal: 2m 35s\tremaining: 9m 52s\n",
      "208:\tlearn: 0.7022191\ttotal: 2m 36s\tremaining: 9m 51s\n",
      "209:\tlearn: 0.7010668\ttotal: 2m 36s\tremaining: 9m 50s\n",
      "210:\tlearn: 0.7002066\ttotal: 2m 37s\tremaining: 9m 49s\n",
      "211:\tlearn: 0.6988847\ttotal: 2m 38s\tremaining: 9m 49s\n",
      "212:\tlearn: 0.6978810\ttotal: 2m 39s\tremaining: 9m 48s\n",
      "213:\tlearn: 0.6968833\ttotal: 2m 39s\tremaining: 9m 47s\n",
      "214:\tlearn: 0.6955612\ttotal: 2m 40s\tremaining: 9m 46s\n",
      "215:\tlearn: 0.6949763\ttotal: 2m 41s\tremaining: 9m 45s\n",
      "216:\tlearn: 0.6938514\ttotal: 2m 42s\tremaining: 9m 44s\n",
      "217:\tlearn: 0.6926402\ttotal: 2m 42s\tremaining: 9m 44s\n",
      "218:\tlearn: 0.6917911\ttotal: 2m 43s\tremaining: 9m 43s\n",
      "219:\tlearn: 0.6898249\ttotal: 2m 44s\tremaining: 9m 42s\n",
      "220:\tlearn: 0.6886023\ttotal: 2m 45s\tremaining: 9m 41s\n",
      "221:\tlearn: 0.6874331\ttotal: 2m 45s\tremaining: 9m 41s\n",
      "222:\tlearn: 0.6861229\ttotal: 2m 46s\tremaining: 9m 40s\n",
      "223:\tlearn: 0.6846149\ttotal: 2m 47s\tremaining: 9m 39s\n",
      "224:\tlearn: 0.6836554\ttotal: 2m 48s\tremaining: 9m 38s\n",
      "225:\tlearn: 0.6827074\ttotal: 2m 48s\tremaining: 9m 37s\n",
      "226:\tlearn: 0.6814455\ttotal: 2m 49s\tremaining: 9m 37s\n",
      "227:\tlearn: 0.6799378\ttotal: 2m 50s\tremaining: 9m 36s\n",
      "228:\tlearn: 0.6782972\ttotal: 2m 50s\tremaining: 9m 35s\n",
      "229:\tlearn: 0.6767017\ttotal: 2m 51s\tremaining: 9m 34s\n",
      "230:\tlearn: 0.6758185\ttotal: 2m 52s\tremaining: 9m 33s\n",
      "231:\tlearn: 0.6745326\ttotal: 2m 53s\tremaining: 9m 33s\n",
      "232:\tlearn: 0.6731638\ttotal: 2m 53s\tremaining: 9m 32s\n",
      "233:\tlearn: 0.6726159\ttotal: 2m 54s\tremaining: 9m 31s\n",
      "234:\tlearn: 0.6715106\ttotal: 2m 55s\tremaining: 9m 30s\n",
      "235:\tlearn: 0.6707460\ttotal: 2m 56s\tremaining: 9m 30s\n",
      "236:\tlearn: 0.6694901\ttotal: 2m 56s\tremaining: 9m 29s\n",
      "237:\tlearn: 0.6686313\ttotal: 2m 57s\tremaining: 9m 28s\n",
      "238:\tlearn: 0.6679761\ttotal: 2m 58s\tremaining: 9m 27s\n",
      "239:\tlearn: 0.6673502\ttotal: 2m 59s\tremaining: 9m 26s\n",
      "240:\tlearn: 0.6666622\ttotal: 2m 59s\tremaining: 9m 26s\n",
      "241:\tlearn: 0.6657495\ttotal: 3m\tremaining: 9m 25s\n",
      "242:\tlearn: 0.6647840\ttotal: 3m 1s\tremaining: 9m 24s\n",
      "243:\tlearn: 0.6636173\ttotal: 3m 2s\tremaining: 9m 23s\n",
      "244:\tlearn: 0.6625068\ttotal: 3m 2s\tremaining: 9m 23s\n",
      "245:\tlearn: 0.6610486\ttotal: 3m 3s\tremaining: 9m 22s\n",
      "246:\tlearn: 0.6599940\ttotal: 3m 4s\tremaining: 9m 21s\n",
      "247:\tlearn: 0.6589400\ttotal: 3m 4s\tremaining: 9m 20s\n",
      "248:\tlearn: 0.6583534\ttotal: 3m 5s\tremaining: 9m 20s\n",
      "249:\tlearn: 0.6576531\ttotal: 3m 6s\tremaining: 9m 19s\n",
      "250:\tlearn: 0.6569697\ttotal: 3m 7s\tremaining: 9m 18s\n",
      "251:\tlearn: 0.6556252\ttotal: 3m 7s\tremaining: 9m 17s\n",
      "252:\tlearn: 0.6545035\ttotal: 3m 8s\tremaining: 9m 16s\n",
      "253:\tlearn: 0.6538615\ttotal: 3m 9s\tremaining: 9m 16s\n",
      "254:\tlearn: 0.6529310\ttotal: 3m 10s\tremaining: 9m 15s\n",
      "255:\tlearn: 0.6523989\ttotal: 3m 10s\tremaining: 9m 14s\n",
      "256:\tlearn: 0.6518256\ttotal: 3m 11s\tremaining: 9m 13s\n",
      "257:\tlearn: 0.6509100\ttotal: 3m 12s\tremaining: 9m 12s\n",
      "258:\tlearn: 0.6500253\ttotal: 3m 12s\tremaining: 9m 12s\n",
      "259:\tlearn: 0.6485734\ttotal: 3m 13s\tremaining: 9m 11s\n",
      "260:\tlearn: 0.6479702\ttotal: 3m 14s\tremaining: 9m 10s\n",
      "261:\tlearn: 0.6467288\ttotal: 3m 15s\tremaining: 9m 9s\n",
      "262:\tlearn: 0.6458026\ttotal: 3m 15s\tremaining: 9m 8s\n",
      "263:\tlearn: 0.6453229\ttotal: 3m 16s\tremaining: 9m 8s\n",
      "264:\tlearn: 0.6442354\ttotal: 3m 17s\tremaining: 9m 7s\n",
      "265:\tlearn: 0.6431315\ttotal: 3m 18s\tremaining: 9m 6s\n",
      "266:\tlearn: 0.6417593\ttotal: 3m 18s\tremaining: 9m 5s\n",
      "267:\tlearn: 0.6407470\ttotal: 3m 19s\tremaining: 9m 4s\n",
      "268:\tlearn: 0.6395244\ttotal: 3m 20s\tremaining: 9m 4s\n",
      "269:\tlearn: 0.6384092\ttotal: 3m 20s\tremaining: 9m 3s\n",
      "270:\tlearn: 0.6374952\ttotal: 3m 21s\tremaining: 9m 2s\n",
      "271:\tlearn: 0.6370337\ttotal: 3m 22s\tremaining: 9m 1s\n",
      "272:\tlearn: 0.6361276\ttotal: 3m 23s\tremaining: 9m 1s\n",
      "273:\tlearn: 0.6348173\ttotal: 3m 23s\tremaining: 9m\n",
      "274:\tlearn: 0.6338975\ttotal: 3m 24s\tremaining: 8m 59s\n",
      "275:\tlearn: 0.6327484\ttotal: 3m 25s\tremaining: 8m 58s\n",
      "276:\tlearn: 0.6320023\ttotal: 3m 26s\tremaining: 8m 58s\n",
      "277:\tlearn: 0.6311841\ttotal: 3m 27s\tremaining: 8m 57s\n",
      "278:\tlearn: 0.6306483\ttotal: 3m 27s\tremaining: 8m 57s\n",
      "279:\tlearn: 0.6294079\ttotal: 3m 28s\tremaining: 8m 56s\n",
      "280:\tlearn: 0.6281578\ttotal: 3m 29s\tremaining: 8m 55s\n",
      "281:\tlearn: 0.6269476\ttotal: 3m 30s\tremaining: 8m 54s\n",
      "282:\tlearn: 0.6258770\ttotal: 3m 30s\tremaining: 8m 54s\n",
      "283:\tlearn: 0.6245824\ttotal: 3m 31s\tremaining: 8m 53s\n",
      "284:\tlearn: 0.6239314\ttotal: 3m 32s\tremaining: 8m 52s\n",
      "285:\tlearn: 0.6234019\ttotal: 3m 32s\tremaining: 8m 51s\n",
      "286:\tlearn: 0.6222629\ttotal: 3m 33s\tremaining: 8m 50s\n",
      "287:\tlearn: 0.6216502\ttotal: 3m 34s\tremaining: 8m 50s\n",
      "288:\tlearn: 0.6211145\ttotal: 3m 35s\tremaining: 8m 49s\n",
      "289:\tlearn: 0.6200072\ttotal: 3m 35s\tremaining: 8m 48s\n",
      "290:\tlearn: 0.6190671\ttotal: 3m 36s\tremaining: 8m 47s\n",
      "291:\tlearn: 0.6184708\ttotal: 3m 37s\tremaining: 8m 47s\n",
      "292:\tlearn: 0.6172960\ttotal: 3m 38s\tremaining: 8m 46s\n",
      "293:\tlearn: 0.6166339\ttotal: 3m 38s\tremaining: 8m 45s\n",
      "294:\tlearn: 0.6162058\ttotal: 3m 39s\tremaining: 8m 44s\n",
      "295:\tlearn: 0.6150553\ttotal: 3m 40s\tremaining: 8m 44s\n",
      "296:\tlearn: 0.6145234\ttotal: 3m 41s\tremaining: 8m 43s\n",
      "297:\tlearn: 0.6132047\ttotal: 3m 41s\tremaining: 8m 42s\n",
      "298:\tlearn: 0.6125266\ttotal: 3m 42s\tremaining: 8m 42s\n",
      "299:\tlearn: 0.6116867\ttotal: 3m 43s\tremaining: 8m 41s\n",
      "300:\tlearn: 0.6106127\ttotal: 3m 44s\tremaining: 8m 40s\n",
      "301:\tlearn: 0.6100792\ttotal: 3m 44s\tremaining: 8m 39s\n",
      "302:\tlearn: 0.6086664\ttotal: 3m 45s\tremaining: 8m 39s\n",
      "303:\tlearn: 0.6079548\ttotal: 3m 46s\tremaining: 8m 38s\n",
      "304:\tlearn: 0.6071570\ttotal: 3m 47s\tremaining: 8m 37s\n",
      "305:\tlearn: 0.6059851\ttotal: 3m 47s\tremaining: 8m 36s\n",
      "306:\tlearn: 0.6050100\ttotal: 3m 48s\tremaining: 8m 35s\n",
      "307:\tlearn: 0.6042567\ttotal: 3m 49s\tremaining: 8m 35s\n",
      "308:\tlearn: 0.6033950\ttotal: 3m 50s\tremaining: 8m 34s\n",
      "309:\tlearn: 0.6027008\ttotal: 3m 50s\tremaining: 8m 33s\n",
      "310:\tlearn: 0.6021673\ttotal: 3m 51s\tremaining: 8m 32s\n",
      "311:\tlearn: 0.6016700\ttotal: 3m 52s\tremaining: 8m 32s\n",
      "312:\tlearn: 0.6010650\ttotal: 3m 53s\tremaining: 8m 31s\n",
      "313:\tlearn: 0.6006153\ttotal: 3m 53s\tremaining: 8m 30s\n",
      "314:\tlearn: 0.5998708\ttotal: 3m 54s\tremaining: 8m 29s\n",
      "315:\tlearn: 0.5990802\ttotal: 3m 55s\tremaining: 8m 29s\n",
      "316:\tlearn: 0.5982398\ttotal: 3m 55s\tremaining: 8m 28s\n",
      "317:\tlearn: 0.5971644\ttotal: 3m 56s\tremaining: 8m 27s\n",
      "318:\tlearn: 0.5958943\ttotal: 3m 57s\tremaining: 8m 26s\n",
      "319:\tlearn: 0.5948302\ttotal: 3m 58s\tremaining: 8m 26s\n",
      "320:\tlearn: 0.5939528\ttotal: 3m 58s\tremaining: 8m 25s\n",
      "321:\tlearn: 0.5933110\ttotal: 3m 59s\tremaining: 8m 24s\n",
      "322:\tlearn: 0.5929326\ttotal: 4m\tremaining: 8m 23s\n",
      "323:\tlearn: 0.5918997\ttotal: 4m 1s\tremaining: 8m 22s\n",
      "324:\tlearn: 0.5912680\ttotal: 4m 1s\tremaining: 8m 22s\n",
      "325:\tlearn: 0.5906062\ttotal: 4m 2s\tremaining: 8m 21s\n",
      "326:\tlearn: 0.5900915\ttotal: 4m 3s\tremaining: 8m 20s\n",
      "327:\tlearn: 0.5896393\ttotal: 4m 3s\tremaining: 8m 19s\n",
      "328:\tlearn: 0.5892707\ttotal: 4m 4s\tremaining: 8m 18s\n",
      "329:\tlearn: 0.5882207\ttotal: 4m 5s\tremaining: 8m 18s\n",
      "330:\tlearn: 0.5877714\ttotal: 4m 6s\tremaining: 8m 17s\n",
      "331:\tlearn: 0.5873795\ttotal: 4m 6s\tremaining: 8m 16s\n",
      "332:\tlearn: 0.5862064\ttotal: 4m 7s\tremaining: 8m 16s\n",
      "333:\tlearn: 0.5854380\ttotal: 4m 8s\tremaining: 8m 15s\n",
      "334:\tlearn: 0.5844025\ttotal: 4m 9s\tremaining: 8m 14s\n",
      "335:\tlearn: 0.5840440\ttotal: 4m 9s\tremaining: 8m 13s\n",
      "336:\tlearn: 0.5833060\ttotal: 4m 10s\tremaining: 8m 13s\n",
      "337:\tlearn: 0.5829321\ttotal: 4m 11s\tremaining: 8m 12s\n",
      "338:\tlearn: 0.5825277\ttotal: 4m 12s\tremaining: 8m 11s\n",
      "339:\tlearn: 0.5818121\ttotal: 4m 12s\tremaining: 8m 10s\n",
      "340:\tlearn: 0.5811684\ttotal: 4m 13s\tremaining: 8m 9s\n",
      "341:\tlearn: 0.5802894\ttotal: 4m 14s\tremaining: 8m 9s\n",
      "342:\tlearn: 0.5795623\ttotal: 4m 14s\tremaining: 8m 8s\n",
      "343:\tlearn: 0.5787306\ttotal: 4m 15s\tremaining: 8m 7s\n",
      "344:\tlearn: 0.5776767\ttotal: 4m 16s\tremaining: 8m 6s\n",
      "345:\tlearn: 0.5769513\ttotal: 4m 17s\tremaining: 8m 6s\n",
      "346:\tlearn: 0.5762210\ttotal: 4m 17s\tremaining: 8m 5s\n",
      "347:\tlearn: 0.5758540\ttotal: 4m 18s\tremaining: 8m 4s\n",
      "348:\tlearn: 0.5752383\ttotal: 4m 19s\tremaining: 8m 3s\n",
      "349:\tlearn: 0.5748312\ttotal: 4m 20s\tremaining: 8m 3s\n",
      "350:\tlearn: 0.5743788\ttotal: 4m 20s\tremaining: 8m 2s\n",
      "351:\tlearn: 0.5740662\ttotal: 4m 21s\tremaining: 8m 1s\n",
      "352:\tlearn: 0.5730012\ttotal: 4m 22s\tremaining: 8m\n",
      "353:\tlearn: 0.5721275\ttotal: 4m 23s\tremaining: 7m 59s\n",
      "354:\tlearn: 0.5715071\ttotal: 4m 23s\tremaining: 7m 59s\n",
      "355:\tlearn: 0.5707446\ttotal: 4m 24s\tremaining: 7m 58s\n",
      "356:\tlearn: 0.5699146\ttotal: 4m 25s\tremaining: 7m 57s\n",
      "357:\tlearn: 0.5692972\ttotal: 4m 26s\tremaining: 7m 57s\n",
      "358:\tlearn: 0.5688109\ttotal: 4m 26s\tremaining: 7m 56s\n",
      "359:\tlearn: 0.5683281\ttotal: 4m 27s\tremaining: 7m 55s\n",
      "360:\tlearn: 0.5674076\ttotal: 4m 28s\tremaining: 7m 54s\n",
      "361:\tlearn: 0.5662468\ttotal: 4m 29s\tremaining: 7m 54s\n",
      "362:\tlearn: 0.5654590\ttotal: 4m 29s\tremaining: 7m 53s\n",
      "363:\tlearn: 0.5650030\ttotal: 4m 30s\tremaining: 7m 52s\n",
      "364:\tlearn: 0.5642502\ttotal: 4m 31s\tremaining: 7m 51s\n",
      "365:\tlearn: 0.5638875\ttotal: 4m 32s\tremaining: 7m 51s\n",
      "366:\tlearn: 0.5630896\ttotal: 4m 32s\tremaining: 7m 50s\n",
      "367:\tlearn: 0.5624492\ttotal: 4m 33s\tremaining: 7m 49s\n",
      "368:\tlearn: 0.5621315\ttotal: 4m 34s\tremaining: 7m 49s\n",
      "369:\tlearn: 0.5613072\ttotal: 4m 35s\tremaining: 7m 48s\n",
      "370:\tlearn: 0.5606571\ttotal: 4m 35s\tremaining: 7m 47s\n",
      "371:\tlearn: 0.5601588\ttotal: 4m 36s\tremaining: 7m 46s\n",
      "372:\tlearn: 0.5598632\ttotal: 4m 37s\tremaining: 7m 46s\n",
      "373:\tlearn: 0.5590924\ttotal: 4m 37s\tremaining: 7m 45s\n",
      "374:\tlearn: 0.5582416\ttotal: 4m 38s\tremaining: 7m 44s\n",
      "375:\tlearn: 0.5578371\ttotal: 4m 39s\tremaining: 7m 43s\n",
      "376:\tlearn: 0.5574990\ttotal: 4m 40s\tremaining: 7m 43s\n",
      "377:\tlearn: 0.5569235\ttotal: 4m 40s\tremaining: 7m 42s\n",
      "378:\tlearn: 0.5565201\ttotal: 4m 41s\tremaining: 7m 41s\n",
      "379:\tlearn: 0.5560156\ttotal: 4m 42s\tremaining: 7m 40s\n",
      "380:\tlearn: 0.5550929\ttotal: 4m 43s\tremaining: 7m 40s\n",
      "381:\tlearn: 0.5546726\ttotal: 4m 43s\tremaining: 7m 39s\n",
      "382:\tlearn: 0.5538721\ttotal: 4m 44s\tremaining: 7m 38s\n",
      "383:\tlearn: 0.5532409\ttotal: 4m 45s\tremaining: 7m 37s\n",
      "384:\tlearn: 0.5523442\ttotal: 4m 46s\tremaining: 7m 36s\n",
      "385:\tlearn: 0.5519339\ttotal: 4m 46s\tremaining: 7m 36s\n",
      "386:\tlearn: 0.5512713\ttotal: 4m 47s\tremaining: 7m 35s\n",
      "387:\tlearn: 0.5504433\ttotal: 4m 48s\tremaining: 7m 34s\n",
      "388:\tlearn: 0.5496168\ttotal: 4m 49s\tremaining: 7m 34s\n",
      "389:\tlearn: 0.5492136\ttotal: 4m 49s\tremaining: 7m 33s\n",
      "390:\tlearn: 0.5477257\ttotal: 4m 50s\tremaining: 7m 32s\n",
      "391:\tlearn: 0.5474162\ttotal: 4m 51s\tremaining: 7m 31s\n",
      "392:\tlearn: 0.5468094\ttotal: 4m 51s\tremaining: 7m 30s\n",
      "393:\tlearn: 0.5461160\ttotal: 4m 52s\tremaining: 7m 30s\n",
      "394:\tlearn: 0.5449773\ttotal: 4m 53s\tremaining: 7m 29s\n",
      "395:\tlearn: 0.5444315\ttotal: 4m 54s\tremaining: 7m 28s\n",
      "396:\tlearn: 0.5440071\ttotal: 4m 54s\tremaining: 7m 28s\n",
      "397:\tlearn: 0.5433653\ttotal: 4m 55s\tremaining: 7m 27s\n",
      "398:\tlearn: 0.5427759\ttotal: 4m 56s\tremaining: 7m 26s\n",
      "399:\tlearn: 0.5423297\ttotal: 4m 57s\tremaining: 7m 25s\n",
      "400:\tlearn: 0.5409774\ttotal: 4m 57s\tremaining: 7m 24s\n",
      "401:\tlearn: 0.5404986\ttotal: 4m 58s\tremaining: 7m 24s\n",
      "402:\tlearn: 0.5401047\ttotal: 4m 59s\tremaining: 7m 23s\n",
      "403:\tlearn: 0.5392033\ttotal: 5m\tremaining: 7m 22s\n",
      "404:\tlearn: 0.5386414\ttotal: 5m\tremaining: 7m 21s\n",
      "405:\tlearn: 0.5380025\ttotal: 5m 1s\tremaining: 7m 21s\n",
      "406:\tlearn: 0.5376962\ttotal: 5m 2s\tremaining: 7m 20s\n",
      "407:\tlearn: 0.5372477\ttotal: 5m 3s\tremaining: 7m 19s\n",
      "408:\tlearn: 0.5366626\ttotal: 5m 3s\tremaining: 7m 18s\n",
      "409:\tlearn: 0.5362296\ttotal: 5m 4s\tremaining: 7m 18s\n",
      "410:\tlearn: 0.5354333\ttotal: 5m 5s\tremaining: 7m 17s\n",
      "411:\tlearn: 0.5347095\ttotal: 5m 6s\tremaining: 7m 16s\n",
      "412:\tlearn: 0.5339676\ttotal: 5m 6s\tremaining: 7m 16s\n",
      "413:\tlearn: 0.5335640\ttotal: 5m 7s\tremaining: 7m 15s\n",
      "414:\tlearn: 0.5330643\ttotal: 5m 8s\tremaining: 7m 14s\n",
      "415:\tlearn: 0.5322155\ttotal: 5m 8s\tremaining: 7m 13s\n",
      "416:\tlearn: 0.5314843\ttotal: 5m 9s\tremaining: 7m 13s\n",
      "417:\tlearn: 0.5310440\ttotal: 5m 10s\tremaining: 7m 12s\n",
      "418:\tlearn: 0.5299256\ttotal: 5m 11s\tremaining: 7m 11s\n",
      "419:\tlearn: 0.5292398\ttotal: 5m 11s\tremaining: 7m 10s\n",
      "420:\tlearn: 0.5287338\ttotal: 5m 12s\tremaining: 7m 10s\n",
      "421:\tlearn: 0.5283848\ttotal: 5m 13s\tremaining: 7m 9s\n",
      "422:\tlearn: 0.5277387\ttotal: 5m 14s\tremaining: 7m 8s\n",
      "423:\tlearn: 0.5275532\ttotal: 5m 14s\tremaining: 7m 7s\n",
      "424:\tlearn: 0.5266294\ttotal: 5m 15s\tremaining: 7m 6s\n",
      "425:\tlearn: 0.5263266\ttotal: 5m 16s\tremaining: 7m 6s\n",
      "426:\tlearn: 0.5257304\ttotal: 5m 17s\tremaining: 7m 5s\n",
      "427:\tlearn: 0.5251362\ttotal: 5m 17s\tremaining: 7m 4s\n",
      "428:\tlearn: 0.5243943\ttotal: 5m 18s\tremaining: 7m 3s\n",
      "429:\tlearn: 0.5239451\ttotal: 5m 19s\tremaining: 7m 3s\n",
      "430:\tlearn: 0.5235218\ttotal: 5m 19s\tremaining: 7m 2s\n",
      "431:\tlearn: 0.5231540\ttotal: 5m 20s\tremaining: 7m 1s\n",
      "432:\tlearn: 0.5225855\ttotal: 5m 21s\tremaining: 7m\n",
      "433:\tlearn: 0.5222259\ttotal: 5m 22s\tremaining: 7m\n",
      "434:\tlearn: 0.5218493\ttotal: 5m 22s\tremaining: 6m 59s\n",
      "435:\tlearn: 0.5210376\ttotal: 5m 23s\tremaining: 6m 58s\n",
      "436:\tlearn: 0.5206560\ttotal: 5m 24s\tremaining: 6m 58s\n",
      "437:\tlearn: 0.5202378\ttotal: 5m 25s\tremaining: 6m 57s\n",
      "438:\tlearn: 0.5199232\ttotal: 5m 26s\tremaining: 6m 56s\n",
      "439:\tlearn: 0.5194382\ttotal: 5m 26s\tremaining: 6m 55s\n",
      "440:\tlearn: 0.5190072\ttotal: 5m 27s\tremaining: 6m 55s\n",
      "441:\tlearn: 0.5183715\ttotal: 5m 28s\tremaining: 6m 54s\n",
      "442:\tlearn: 0.5181080\ttotal: 5m 28s\tremaining: 6m 53s\n",
      "443:\tlearn: 0.5179280\ttotal: 5m 29s\tremaining: 6m 52s\n",
      "444:\tlearn: 0.5172670\ttotal: 5m 30s\tremaining: 6m 52s\n",
      "445:\tlearn: 0.5168613\ttotal: 5m 31s\tremaining: 6m 51s\n",
      "446:\tlearn: 0.5163660\ttotal: 5m 31s\tremaining: 6m 50s\n",
      "447:\tlearn: 0.5153629\ttotal: 5m 32s\tremaining: 6m 49s\n",
      "448:\tlearn: 0.5148773\ttotal: 5m 33s\tremaining: 6m 49s\n",
      "449:\tlearn: 0.5145609\ttotal: 5m 34s\tremaining: 6m 48s\n",
      "450:\tlearn: 0.5141858\ttotal: 5m 34s\tremaining: 6m 47s\n",
      "451:\tlearn: 0.5137844\ttotal: 5m 35s\tremaining: 6m 46s\n",
      "452:\tlearn: 0.5134522\ttotal: 5m 36s\tremaining: 6m 46s\n",
      "453:\tlearn: 0.5132805\ttotal: 5m 37s\tremaining: 6m 45s\n",
      "454:\tlearn: 0.5129499\ttotal: 5m 37s\tremaining: 6m 44s\n",
      "455:\tlearn: 0.5125358\ttotal: 5m 38s\tremaining: 6m 43s\n",
      "456:\tlearn: 0.5122719\ttotal: 5m 39s\tremaining: 6m 43s\n",
      "457:\tlearn: 0.5116662\ttotal: 5m 39s\tremaining: 6m 42s\n",
      "458:\tlearn: 0.5110338\ttotal: 5m 40s\tremaining: 6m 41s\n",
      "459:\tlearn: 0.5102414\ttotal: 5m 41s\tremaining: 6m 40s\n",
      "460:\tlearn: 0.5099756\ttotal: 5m 42s\tremaining: 6m 40s\n",
      "461:\tlearn: 0.5094561\ttotal: 5m 43s\tremaining: 6m 39s\n",
      "462:\tlearn: 0.5089849\ttotal: 5m 43s\tremaining: 6m 38s\n",
      "463:\tlearn: 0.5084557\ttotal: 5m 44s\tremaining: 6m 38s\n",
      "464:\tlearn: 0.5079484\ttotal: 5m 45s\tremaining: 6m 37s\n",
      "465:\tlearn: 0.5076157\ttotal: 5m 46s\tremaining: 6m 36s\n",
      "466:\tlearn: 0.5072898\ttotal: 5m 46s\tremaining: 6m 35s\n",
      "467:\tlearn: 0.5070254\ttotal: 5m 47s\tremaining: 6m 35s\n",
      "468:\tlearn: 0.5062333\ttotal: 5m 48s\tremaining: 6m 34s\n",
      "469:\tlearn: 0.5058102\ttotal: 5m 49s\tremaining: 6m 33s\n",
      "470:\tlearn: 0.5053208\ttotal: 5m 49s\tremaining: 6m 32s\n",
      "471:\tlearn: 0.5046920\ttotal: 5m 50s\tremaining: 6m 32s\n",
      "472:\tlearn: 0.5043328\ttotal: 5m 51s\tremaining: 6m 31s\n",
      "473:\tlearn: 0.5039727\ttotal: 5m 51s\tremaining: 6m 30s\n",
      "474:\tlearn: 0.5034185\ttotal: 5m 52s\tremaining: 6m 29s\n",
      "475:\tlearn: 0.5029584\ttotal: 5m 53s\tremaining: 6m 29s\n",
      "476:\tlearn: 0.5027898\ttotal: 5m 54s\tremaining: 6m 28s\n",
      "477:\tlearn: 0.5023680\ttotal: 5m 54s\tremaining: 6m 27s\n",
      "478:\tlearn: 0.5019574\ttotal: 5m 55s\tremaining: 6m 26s\n",
      "479:\tlearn: 0.5012856\ttotal: 5m 56s\tremaining: 6m 26s\n",
      "480:\tlearn: 0.5010132\ttotal: 5m 57s\tremaining: 6m 25s\n",
      "481:\tlearn: 0.5000055\ttotal: 5m 57s\tremaining: 6m 24s\n",
      "482:\tlearn: 0.4996041\ttotal: 5m 58s\tremaining: 6m 23s\n",
      "483:\tlearn: 0.4990597\ttotal: 5m 59s\tremaining: 6m 23s\n",
      "484:\tlearn: 0.4984145\ttotal: 6m\tremaining: 6m 22s\n",
      "485:\tlearn: 0.4975654\ttotal: 6m\tremaining: 6m 21s\n",
      "486:\tlearn: 0.4972640\ttotal: 6m 1s\tremaining: 6m 20s\n",
      "487:\tlearn: 0.4968160\ttotal: 6m 2s\tremaining: 6m 20s\n",
      "488:\tlearn: 0.4964985\ttotal: 6m 3s\tremaining: 6m 19s\n",
      "489:\tlearn: 0.4962199\ttotal: 6m 3s\tremaining: 6m 18s\n",
      "490:\tlearn: 0.4955890\ttotal: 6m 4s\tremaining: 6m 17s\n",
      "491:\tlearn: 0.4951726\ttotal: 6m 5s\tremaining: 6m 17s\n",
      "492:\tlearn: 0.4947796\ttotal: 6m 6s\tremaining: 6m 16s\n",
      "493:\tlearn: 0.4940682\ttotal: 6m 6s\tremaining: 6m 15s\n",
      "494:\tlearn: 0.4934010\ttotal: 6m 7s\tremaining: 6m 14s\n",
      "495:\tlearn: 0.4926643\ttotal: 6m 8s\tremaining: 6m 14s\n",
      "496:\tlearn: 0.4918545\ttotal: 6m 9s\tremaining: 6m 13s\n",
      "497:\tlearn: 0.4908786\ttotal: 6m 9s\tremaining: 6m 12s\n",
      "498:\tlearn: 0.4903677\ttotal: 6m 10s\tremaining: 6m 12s\n",
      "499:\tlearn: 0.4901092\ttotal: 6m 11s\tremaining: 6m 11s\n",
      "500:\tlearn: 0.4897217\ttotal: 6m 12s\tremaining: 6m 10s\n",
      "501:\tlearn: 0.4889066\ttotal: 6m 12s\tremaining: 6m 9s\n",
      "502:\tlearn: 0.4886007\ttotal: 6m 13s\tremaining: 6m 9s\n",
      "503:\tlearn: 0.4879505\ttotal: 6m 14s\tremaining: 6m 8s\n",
      "504:\tlearn: 0.4875887\ttotal: 6m 15s\tremaining: 6m 7s\n",
      "505:\tlearn: 0.4872709\ttotal: 6m 15s\tremaining: 6m 6s\n",
      "506:\tlearn: 0.4871187\ttotal: 6m 16s\tremaining: 6m 6s\n",
      "507:\tlearn: 0.4867562\ttotal: 6m 17s\tremaining: 6m 5s\n",
      "508:\tlearn: 0.4866020\ttotal: 6m 18s\tremaining: 6m 4s\n",
      "509:\tlearn: 0.4863201\ttotal: 6m 18s\tremaining: 6m 3s\n",
      "510:\tlearn: 0.4856534\ttotal: 6m 19s\tremaining: 6m 3s\n",
      "511:\tlearn: 0.4851958\ttotal: 6m 20s\tremaining: 6m 2s\n",
      "512:\tlearn: 0.4848851\ttotal: 6m 21s\tremaining: 6m 1s\n",
      "513:\tlearn: 0.4845590\ttotal: 6m 21s\tremaining: 6m\n",
      "514:\tlearn: 0.4839026\ttotal: 6m 22s\tremaining: 6m\n",
      "515:\tlearn: 0.4835976\ttotal: 6m 23s\tremaining: 5m 59s\n",
      "516:\tlearn: 0.4829218\ttotal: 6m 23s\tremaining: 5m 58s\n",
      "517:\tlearn: 0.4823315\ttotal: 6m 24s\tremaining: 5m 57s\n",
      "518:\tlearn: 0.4820903\ttotal: 6m 25s\tremaining: 5m 57s\n",
      "519:\tlearn: 0.4818328\ttotal: 6m 26s\tremaining: 5m 56s\n",
      "520:\tlearn: 0.4815789\ttotal: 6m 26s\tremaining: 5m 55s\n",
      "521:\tlearn: 0.4812442\ttotal: 6m 27s\tremaining: 5m 55s\n",
      "522:\tlearn: 0.4805202\ttotal: 6m 28s\tremaining: 5m 54s\n",
      "523:\tlearn: 0.4802565\ttotal: 6m 29s\tremaining: 5m 53s\n",
      "524:\tlearn: 0.4797296\ttotal: 6m 30s\tremaining: 5m 52s\n",
      "525:\tlearn: 0.4791324\ttotal: 6m 30s\tremaining: 5m 52s\n",
      "526:\tlearn: 0.4781231\ttotal: 6m 31s\tremaining: 5m 51s\n",
      "527:\tlearn: 0.4778287\ttotal: 6m 32s\tremaining: 5m 50s\n",
      "528:\tlearn: 0.4773308\ttotal: 6m 32s\tremaining: 5m 49s\n",
      "529:\tlearn: 0.4766184\ttotal: 6m 33s\tremaining: 5m 49s\n",
      "530:\tlearn: 0.4763185\ttotal: 6m 34s\tremaining: 5m 48s\n",
      "531:\tlearn: 0.4753762\ttotal: 6m 35s\tremaining: 5m 47s\n",
      "532:\tlearn: 0.4751182\ttotal: 6m 35s\tremaining: 5m 46s\n",
      "533:\tlearn: 0.4747507\ttotal: 6m 36s\tremaining: 5m 46s\n",
      "534:\tlearn: 0.4742752\ttotal: 6m 37s\tremaining: 5m 45s\n",
      "535:\tlearn: 0.4737763\ttotal: 6m 38s\tremaining: 5m 44s\n",
      "536:\tlearn: 0.4729944\ttotal: 6m 38s\tremaining: 5m 43s\n",
      "537:\tlearn: 0.4725018\ttotal: 6m 39s\tremaining: 5m 43s\n",
      "538:\tlearn: 0.4720507\ttotal: 6m 40s\tremaining: 5m 42s\n",
      "539:\tlearn: 0.4717585\ttotal: 6m 41s\tremaining: 5m 41s\n",
      "540:\tlearn: 0.4709739\ttotal: 6m 41s\tremaining: 5m 40s\n",
      "541:\tlearn: 0.4707076\ttotal: 6m 42s\tremaining: 5m 40s\n",
      "542:\tlearn: 0.4702921\ttotal: 6m 43s\tremaining: 5m 39s\n",
      "543:\tlearn: 0.4700470\ttotal: 6m 44s\tremaining: 5m 38s\n",
      "544:\tlearn: 0.4696957\ttotal: 6m 44s\tremaining: 5m 37s\n",
      "545:\tlearn: 0.4694105\ttotal: 6m 45s\tremaining: 5m 37s\n",
      "546:\tlearn: 0.4687584\ttotal: 6m 46s\tremaining: 5m 36s\n",
      "547:\tlearn: 0.4680550\ttotal: 6m 47s\tremaining: 5m 35s\n",
      "548:\tlearn: 0.4678247\ttotal: 6m 47s\tremaining: 5m 34s\n",
      "549:\tlearn: 0.4675214\ttotal: 6m 48s\tremaining: 5m 34s\n",
      "550:\tlearn: 0.4668840\ttotal: 6m 49s\tremaining: 5m 33s\n",
      "551:\tlearn: 0.4665425\ttotal: 6m 49s\tremaining: 5m 32s\n",
      "552:\tlearn: 0.4662550\ttotal: 6m 50s\tremaining: 5m 31s\n",
      "553:\tlearn: 0.4659696\ttotal: 6m 51s\tremaining: 5m 31s\n",
      "554:\tlearn: 0.4657216\ttotal: 6m 52s\tremaining: 5m 30s\n",
      "555:\tlearn: 0.4649901\ttotal: 6m 52s\tremaining: 5m 29s\n",
      "556:\tlearn: 0.4647052\ttotal: 6m 53s\tremaining: 5m 28s\n",
      "557:\tlearn: 0.4644888\ttotal: 6m 54s\tremaining: 5m 28s\n",
      "558:\tlearn: 0.4639365\ttotal: 6m 55s\tremaining: 5m 27s\n",
      "559:\tlearn: 0.4635082\ttotal: 6m 55s\tremaining: 5m 26s\n",
      "560:\tlearn: 0.4632369\ttotal: 6m 56s\tremaining: 5m 25s\n",
      "561:\tlearn: 0.4628574\ttotal: 6m 57s\tremaining: 5m 25s\n",
      "562:\tlearn: 0.4623151\ttotal: 6m 58s\tremaining: 5m 24s\n",
      "563:\tlearn: 0.4618434\ttotal: 6m 58s\tremaining: 5m 23s\n",
      "564:\tlearn: 0.4611075\ttotal: 6m 59s\tremaining: 5m 23s\n",
      "565:\tlearn: 0.4606668\ttotal: 7m\tremaining: 5m 22s\n",
      "566:\tlearn: 0.4603528\ttotal: 7m 1s\tremaining: 5m 21s\n",
      "567:\tlearn: 0.4600444\ttotal: 7m 1s\tremaining: 5m 20s\n",
      "568:\tlearn: 0.4596656\ttotal: 7m 2s\tremaining: 5m 20s\n",
      "569:\tlearn: 0.4590773\ttotal: 7m 3s\tremaining: 5m 19s\n",
      "570:\tlearn: 0.4587655\ttotal: 7m 4s\tremaining: 5m 18s\n",
      "571:\tlearn: 0.4580227\ttotal: 7m 4s\tremaining: 5m 17s\n",
      "572:\tlearn: 0.4575037\ttotal: 7m 5s\tremaining: 5m 17s\n",
      "573:\tlearn: 0.4567412\ttotal: 7m 6s\tremaining: 5m 16s\n",
      "574:\tlearn: 0.4564391\ttotal: 7m 6s\tremaining: 5m 15s\n",
      "575:\tlearn: 0.4557083\ttotal: 7m 7s\tremaining: 5m 14s\n",
      "576:\tlearn: 0.4548325\ttotal: 7m 8s\tremaining: 5m 14s\n",
      "577:\tlearn: 0.4541572\ttotal: 7m 9s\tremaining: 5m 13s\n",
      "578:\tlearn: 0.4538741\ttotal: 7m 9s\tremaining: 5m 12s\n",
      "579:\tlearn: 0.4532128\ttotal: 7m 10s\tremaining: 5m 11s\n",
      "580:\tlearn: 0.4527654\ttotal: 7m 11s\tremaining: 5m 11s\n",
      "581:\tlearn: 0.4524259\ttotal: 7m 12s\tremaining: 5m 10s\n",
      "582:\tlearn: 0.4518410\ttotal: 7m 12s\tremaining: 5m 9s\n",
      "583:\tlearn: 0.4516173\ttotal: 7m 13s\tremaining: 5m 8s\n",
      "584:\tlearn: 0.4511528\ttotal: 7m 14s\tremaining: 5m 8s\n",
      "585:\tlearn: 0.4508725\ttotal: 7m 15s\tremaining: 5m 7s\n",
      "586:\tlearn: 0.4505615\ttotal: 7m 15s\tremaining: 5m 6s\n",
      "587:\tlearn: 0.4501993\ttotal: 7m 16s\tremaining: 5m 5s\n",
      "588:\tlearn: 0.4499816\ttotal: 7m 17s\tremaining: 5m 5s\n",
      "589:\tlearn: 0.4496974\ttotal: 7m 18s\tremaining: 5m 4s\n",
      "590:\tlearn: 0.4490480\ttotal: 7m 18s\tremaining: 5m 3s\n",
      "591:\tlearn: 0.4483776\ttotal: 7m 19s\tremaining: 5m 2s\n",
      "592:\tlearn: 0.4481593\ttotal: 7m 20s\tremaining: 5m 2s\n",
      "593:\tlearn: 0.4475661\ttotal: 7m 20s\tremaining: 5m 1s\n",
      "594:\tlearn: 0.4468616\ttotal: 7m 21s\tremaining: 5m\n",
      "595:\tlearn: 0.4465479\ttotal: 7m 22s\tremaining: 4m 59s\n",
      "596:\tlearn: 0.4459051\ttotal: 7m 23s\tremaining: 4m 59s\n",
      "597:\tlearn: 0.4452234\ttotal: 7m 23s\tremaining: 4m 58s\n",
      "598:\tlearn: 0.4449860\ttotal: 7m 24s\tremaining: 4m 57s\n",
      "599:\tlearn: 0.4446950\ttotal: 7m 25s\tremaining: 4m 56s\n",
      "600:\tlearn: 0.4442547\ttotal: 7m 26s\tremaining: 4m 56s\n",
      "601:\tlearn: 0.4436537\ttotal: 7m 26s\tremaining: 4m 55s\n",
      "602:\tlearn: 0.4434097\ttotal: 7m 27s\tremaining: 4m 54s\n",
      "603:\tlearn: 0.4431776\ttotal: 7m 28s\tremaining: 4m 53s\n",
      "604:\tlearn: 0.4428605\ttotal: 7m 29s\tremaining: 4m 53s\n",
      "605:\tlearn: 0.4426340\ttotal: 7m 29s\tremaining: 4m 52s\n",
      "606:\tlearn: 0.4422702\ttotal: 7m 30s\tremaining: 4m 51s\n",
      "607:\tlearn: 0.4419912\ttotal: 7m 31s\tremaining: 4m 50s\n",
      "608:\tlearn: 0.4413114\ttotal: 7m 32s\tremaining: 4m 50s\n",
      "609:\tlearn: 0.4408024\ttotal: 7m 32s\tremaining: 4m 49s\n",
      "610:\tlearn: 0.4403629\ttotal: 7m 33s\tremaining: 4m 48s\n",
      "611:\tlearn: 0.4398516\ttotal: 7m 34s\tremaining: 4m 48s\n",
      "612:\tlearn: 0.4392461\ttotal: 7m 35s\tremaining: 4m 47s\n",
      "613:\tlearn: 0.4383124\ttotal: 7m 35s\tremaining: 4m 46s\n",
      "614:\tlearn: 0.4381029\ttotal: 7m 36s\tremaining: 4m 45s\n",
      "615:\tlearn: 0.4379078\ttotal: 7m 37s\tremaining: 4m 45s\n",
      "616:\tlearn: 0.4372040\ttotal: 7m 38s\tremaining: 4m 44s\n",
      "617:\tlearn: 0.4369753\ttotal: 7m 38s\tremaining: 4m 43s\n",
      "618:\tlearn: 0.4367582\ttotal: 7m 39s\tremaining: 4m 42s\n",
      "619:\tlearn: 0.4364824\ttotal: 7m 40s\tremaining: 4m 42s\n",
      "620:\tlearn: 0.4361266\ttotal: 7m 41s\tremaining: 4m 41s\n",
      "621:\tlearn: 0.4357417\ttotal: 7m 41s\tremaining: 4m 40s\n",
      "622:\tlearn: 0.4355503\ttotal: 7m 42s\tremaining: 4m 40s\n",
      "623:\tlearn: 0.4352679\ttotal: 7m 43s\tremaining: 4m 39s\n",
      "624:\tlearn: 0.4345678\ttotal: 7m 44s\tremaining: 4m 38s\n",
      "625:\tlearn: 0.4342742\ttotal: 7m 45s\tremaining: 4m 37s\n",
      "626:\tlearn: 0.4340169\ttotal: 7m 46s\tremaining: 4m 37s\n",
      "627:\tlearn: 0.4330117\ttotal: 7m 46s\tremaining: 4m 36s\n",
      "628:\tlearn: 0.4327464\ttotal: 7m 47s\tremaining: 4m 35s\n",
      "629:\tlearn: 0.4325521\ttotal: 7m 48s\tremaining: 4m 35s\n",
      "630:\tlearn: 0.4323600\ttotal: 7m 49s\tremaining: 4m 34s\n",
      "631:\tlearn: 0.4317171\ttotal: 7m 49s\tremaining: 4m 33s\n",
      "632:\tlearn: 0.4314583\ttotal: 7m 50s\tremaining: 4m 32s\n",
      "633:\tlearn: 0.4312180\ttotal: 7m 51s\tremaining: 4m 32s\n",
      "634:\tlearn: 0.4304738\ttotal: 7m 52s\tremaining: 4m 31s\n",
      "635:\tlearn: 0.4301891\ttotal: 7m 52s\tremaining: 4m 30s\n",
      "636:\tlearn: 0.4299685\ttotal: 7m 53s\tremaining: 4m 29s\n",
      "637:\tlearn: 0.4290569\ttotal: 7m 54s\tremaining: 4m 29s\n",
      "638:\tlearn: 0.4287450\ttotal: 7m 55s\tremaining: 4m 28s\n",
      "639:\tlearn: 0.4284003\ttotal: 7m 55s\tremaining: 4m 27s\n",
      "640:\tlearn: 0.4281269\ttotal: 7m 56s\tremaining: 4m 26s\n",
      "641:\tlearn: 0.4274381\ttotal: 7m 57s\tremaining: 4m 26s\n",
      "642:\tlearn: 0.4271926\ttotal: 7m 57s\tremaining: 4m 25s\n",
      "643:\tlearn: 0.4266893\ttotal: 7m 58s\tremaining: 4m 24s\n",
      "644:\tlearn: 0.4263146\ttotal: 7m 59s\tremaining: 4m 23s\n",
      "645:\tlearn: 0.4261813\ttotal: 8m\tremaining: 4m 23s\n",
      "646:\tlearn: 0.4256038\ttotal: 8m\tremaining: 4m 22s\n",
      "647:\tlearn: 0.4251690\ttotal: 8m 1s\tremaining: 4m 21s\n",
      "648:\tlearn: 0.4249233\ttotal: 8m 2s\tremaining: 4m 20s\n",
      "649:\tlearn: 0.4246644\ttotal: 8m 3s\tremaining: 4m 20s\n",
      "650:\tlearn: 0.4244528\ttotal: 8m 4s\tremaining: 4m 19s\n",
      "651:\tlearn: 0.4237551\ttotal: 8m 4s\tremaining: 4m 18s\n",
      "652:\tlearn: 0.4232990\ttotal: 8m 5s\tremaining: 4m 17s\n",
      "653:\tlearn: 0.4230674\ttotal: 8m 6s\tremaining: 4m 17s\n",
      "654:\tlearn: 0.4226628\ttotal: 8m 6s\tremaining: 4m 16s\n",
      "655:\tlearn: 0.4223343\ttotal: 8m 7s\tremaining: 4m 15s\n",
      "656:\tlearn: 0.4222079\ttotal: 8m 8s\tremaining: 4m 14s\n",
      "657:\tlearn: 0.4219483\ttotal: 8m 9s\tremaining: 4m 14s\n",
      "658:\tlearn: 0.4213310\ttotal: 8m 9s\tremaining: 4m 13s\n",
      "659:\tlearn: 0.4210041\ttotal: 8m 10s\tremaining: 4m 12s\n",
      "660:\tlearn: 0.4207184\ttotal: 8m 11s\tremaining: 4m 11s\n",
      "661:\tlearn: 0.4204797\ttotal: 8m 12s\tremaining: 4m 11s\n",
      "662:\tlearn: 0.4197473\ttotal: 8m 12s\tremaining: 4m 10s\n",
      "663:\tlearn: 0.4191577\ttotal: 8m 13s\tremaining: 4m 9s\n",
      "664:\tlearn: 0.4184676\ttotal: 8m 14s\tremaining: 4m 9s\n",
      "665:\tlearn: 0.4183400\ttotal: 8m 15s\tremaining: 4m 8s\n",
      "666:\tlearn: 0.4181059\ttotal: 8m 15s\tremaining: 4m 7s\n",
      "667:\tlearn: 0.4178759\ttotal: 8m 16s\tremaining: 4m 6s\n",
      "668:\tlearn: 0.4170703\ttotal: 8m 17s\tremaining: 4m 6s\n",
      "669:\tlearn: 0.4168660\ttotal: 8m 18s\tremaining: 4m 5s\n",
      "670:\tlearn: 0.4164892\ttotal: 8m 18s\tremaining: 4m 4s\n",
      "671:\tlearn: 0.4156805\ttotal: 8m 19s\tremaining: 4m 3s\n",
      "672:\tlearn: 0.4150442\ttotal: 8m 20s\tremaining: 4m 3s\n",
      "673:\tlearn: 0.4148600\ttotal: 8m 20s\tremaining: 4m 2s\n",
      "674:\tlearn: 0.4142430\ttotal: 8m 21s\tremaining: 4m 1s\n",
      "675:\tlearn: 0.4139637\ttotal: 8m 22s\tremaining: 4m\n",
      "676:\tlearn: 0.4135936\ttotal: 8m 23s\tremaining: 4m\n",
      "677:\tlearn: 0.4134708\ttotal: 8m 24s\tremaining: 3m 59s\n",
      "678:\tlearn: 0.4128993\ttotal: 8m 24s\tremaining: 3m 58s\n",
      "679:\tlearn: 0.4125097\ttotal: 8m 25s\tremaining: 3m 57s\n",
      "680:\tlearn: 0.4116422\ttotal: 8m 26s\tremaining: 3m 57s\n",
      "681:\tlearn: 0.4114256\ttotal: 8m 26s\tremaining: 3m 56s\n",
      "682:\tlearn: 0.4112307\ttotal: 8m 27s\tremaining: 3m 55s\n",
      "683:\tlearn: 0.4110121\ttotal: 8m 28s\tremaining: 3m 54s\n",
      "684:\tlearn: 0.4106029\ttotal: 8m 29s\tremaining: 3m 54s\n",
      "685:\tlearn: 0.4101210\ttotal: 8m 29s\tremaining: 3m 53s\n",
      "686:\tlearn: 0.4098285\ttotal: 8m 30s\tremaining: 3m 52s\n",
      "687:\tlearn: 0.4096716\ttotal: 8m 31s\tremaining: 3m 51s\n",
      "688:\tlearn: 0.4094714\ttotal: 8m 32s\tremaining: 3m 51s\n",
      "689:\tlearn: 0.4088477\ttotal: 8m 32s\tremaining: 3m 50s\n",
      "690:\tlearn: 0.4086483\ttotal: 8m 33s\tremaining: 3m 49s\n",
      "691:\tlearn: 0.4083082\ttotal: 8m 34s\tremaining: 3m 48s\n",
      "692:\tlearn: 0.4080966\ttotal: 8m 35s\tremaining: 3m 48s\n",
      "693:\tlearn: 0.4077050\ttotal: 8m 35s\tremaining: 3m 47s\n",
      "694:\tlearn: 0.4073254\ttotal: 8m 36s\tremaining: 3m 46s\n",
      "695:\tlearn: 0.4071454\ttotal: 8m 37s\tremaining: 3m 46s\n",
      "696:\tlearn: 0.4069865\ttotal: 8m 38s\tremaining: 3m 45s\n",
      "697:\tlearn: 0.4067111\ttotal: 8m 38s\tremaining: 3m 44s\n",
      "698:\tlearn: 0.4064819\ttotal: 8m 39s\tremaining: 3m 43s\n",
      "699:\tlearn: 0.4063017\ttotal: 8m 40s\tremaining: 3m 43s\n",
      "700:\tlearn: 0.4059694\ttotal: 8m 41s\tremaining: 3m 42s\n",
      "701:\tlearn: 0.4056249\ttotal: 8m 42s\tremaining: 3m 41s\n",
      "702:\tlearn: 0.4050777\ttotal: 8m 42s\tremaining: 3m 40s\n",
      "703:\tlearn: 0.4049606\ttotal: 8m 43s\tremaining: 3m 40s\n",
      "704:\tlearn: 0.4045032\ttotal: 8m 44s\tremaining: 3m 39s\n",
      "705:\tlearn: 0.4040674\ttotal: 8m 44s\tremaining: 3m 38s\n",
      "706:\tlearn: 0.4033268\ttotal: 8m 45s\tremaining: 3m 37s\n",
      "707:\tlearn: 0.4029624\ttotal: 8m 46s\tremaining: 3m 37s\n",
      "708:\tlearn: 0.4024830\ttotal: 8m 47s\tremaining: 3m 36s\n",
      "709:\tlearn: 0.4022834\ttotal: 8m 48s\tremaining: 3m 35s\n",
      "710:\tlearn: 0.4020926\ttotal: 8m 48s\tremaining: 3m 34s\n",
      "711:\tlearn: 0.4018897\ttotal: 8m 49s\tremaining: 3m 34s\n",
      "712:\tlearn: 0.4013477\ttotal: 8m 50s\tremaining: 3m 33s\n",
      "713:\tlearn: 0.4010670\ttotal: 8m 51s\tremaining: 3m 32s\n",
      "714:\tlearn: 0.4005869\ttotal: 8m 51s\tremaining: 3m 31s\n",
      "715:\tlearn: 0.4002227\ttotal: 8m 52s\tremaining: 3m 31s\n",
      "716:\tlearn: 0.3993855\ttotal: 8m 53s\tremaining: 3m 30s\n",
      "717:\tlearn: 0.3988651\ttotal: 8m 54s\tremaining: 3m 29s\n",
      "718:\tlearn: 0.3983560\ttotal: 8m 54s\tremaining: 3m 29s\n",
      "719:\tlearn: 0.3978138\ttotal: 8m 55s\tremaining: 3m 28s\n",
      "720:\tlearn: 0.3975889\ttotal: 8m 56s\tremaining: 3m 27s\n",
      "721:\tlearn: 0.3973563\ttotal: 8m 57s\tremaining: 3m 26s\n",
      "722:\tlearn: 0.3971645\ttotal: 8m 57s\tremaining: 3m 26s\n",
      "723:\tlearn: 0.3967133\ttotal: 8m 58s\tremaining: 3m 25s\n",
      "724:\tlearn: 0.3962512\ttotal: 8m 59s\tremaining: 3m 24s\n",
      "725:\tlearn: 0.3960069\ttotal: 9m\tremaining: 3m 23s\n",
      "726:\tlearn: 0.3954921\ttotal: 9m\tremaining: 3m 23s\n",
      "727:\tlearn: 0.3949850\ttotal: 9m 1s\tremaining: 3m 22s\n",
      "728:\tlearn: 0.3948057\ttotal: 9m 2s\tremaining: 3m 21s\n",
      "729:\tlearn: 0.3943060\ttotal: 9m 3s\tremaining: 3m 20s\n",
      "730:\tlearn: 0.3940205\ttotal: 9m 3s\tremaining: 3m 20s\n",
      "731:\tlearn: 0.3935276\ttotal: 9m 4s\tremaining: 3m 19s\n",
      "732:\tlearn: 0.3930289\ttotal: 9m 5s\tremaining: 3m 18s\n",
      "733:\tlearn: 0.3925873\ttotal: 9m 6s\tremaining: 3m 17s\n",
      "734:\tlearn: 0.3922361\ttotal: 9m 6s\tremaining: 3m 17s\n",
      "735:\tlearn: 0.3916724\ttotal: 9m 7s\tremaining: 3m 16s\n",
      "736:\tlearn: 0.3914714\ttotal: 9m 8s\tremaining: 3m 15s\n",
      "737:\tlearn: 0.3912384\ttotal: 9m 9s\tremaining: 3m 14s\n",
      "738:\tlearn: 0.3909643\ttotal: 9m 9s\tremaining: 3m 14s\n",
      "739:\tlearn: 0.3907816\ttotal: 9m 10s\tremaining: 3m 13s\n",
      "740:\tlearn: 0.3903778\ttotal: 9m 11s\tremaining: 3m 12s\n",
      "741:\tlearn: 0.3901822\ttotal: 9m 12s\tremaining: 3m 12s\n",
      "742:\tlearn: 0.3899305\ttotal: 9m 12s\tremaining: 3m 11s\n",
      "743:\tlearn: 0.3896459\ttotal: 9m 13s\tremaining: 3m 10s\n",
      "744:\tlearn: 0.3887964\ttotal: 9m 14s\tremaining: 3m 9s\n",
      "745:\tlearn: 0.3882108\ttotal: 9m 15s\tremaining: 3m 9s\n",
      "746:\tlearn: 0.3876556\ttotal: 9m 15s\tremaining: 3m 8s\n",
      "747:\tlearn: 0.3873718\ttotal: 9m 16s\tremaining: 3m 7s\n",
      "748:\tlearn: 0.3869424\ttotal: 9m 17s\tremaining: 3m 6s\n",
      "749:\tlearn: 0.3868429\ttotal: 9m 18s\tremaining: 3m 6s\n",
      "750:\tlearn: 0.3866009\ttotal: 9m 18s\tremaining: 3m 5s\n",
      "751:\tlearn: 0.3864146\ttotal: 9m 19s\tremaining: 3m 4s\n",
      "752:\tlearn: 0.3858951\ttotal: 9m 20s\tremaining: 3m 3s\n",
      "753:\tlearn: 0.3855353\ttotal: 9m 21s\tremaining: 3m 3s\n",
      "754:\tlearn: 0.3850798\ttotal: 9m 22s\tremaining: 3m 2s\n",
      "755:\tlearn: 0.3848734\ttotal: 9m 22s\tremaining: 3m 1s\n",
      "756:\tlearn: 0.3846417\ttotal: 9m 23s\tremaining: 3m\n",
      "757:\tlearn: 0.3842701\ttotal: 9m 24s\tremaining: 3m\n",
      "758:\tlearn: 0.3840634\ttotal: 9m 25s\tremaining: 2m 59s\n",
      "759:\tlearn: 0.3837322\ttotal: 9m 25s\tremaining: 2m 58s\n",
      "760:\tlearn: 0.3833088\ttotal: 9m 26s\tremaining: 2m 57s\n",
      "761:\tlearn: 0.3830996\ttotal: 9m 27s\tremaining: 2m 57s\n",
      "762:\tlearn: 0.3826060\ttotal: 9m 28s\tremaining: 2m 56s\n",
      "763:\tlearn: 0.3821573\ttotal: 9m 28s\tremaining: 2m 55s\n",
      "764:\tlearn: 0.3819778\ttotal: 9m 29s\tremaining: 2m 54s\n",
      "765:\tlearn: 0.3817068\ttotal: 9m 30s\tremaining: 2m 54s\n",
      "766:\tlearn: 0.3811425\ttotal: 9m 30s\tremaining: 2m 53s\n",
      "767:\tlearn: 0.3808110\ttotal: 9m 31s\tremaining: 2m 52s\n",
      "768:\tlearn: 0.3803894\ttotal: 9m 32s\tremaining: 2m 51s\n",
      "769:\tlearn: 0.3799340\ttotal: 9m 33s\tremaining: 2m 51s\n",
      "770:\tlearn: 0.3796635\ttotal: 9m 34s\tremaining: 2m 50s\n",
      "771:\tlearn: 0.3793106\ttotal: 9m 34s\tremaining: 2m 49s\n",
      "772:\tlearn: 0.3786904\ttotal: 9m 35s\tremaining: 2m 49s\n",
      "773:\tlearn: 0.3781731\ttotal: 9m 36s\tremaining: 2m 48s\n",
      "774:\tlearn: 0.3777777\ttotal: 9m 36s\tremaining: 2m 47s\n",
      "775:\tlearn: 0.3775790\ttotal: 9m 37s\tremaining: 2m 46s\n",
      "776:\tlearn: 0.3773799\ttotal: 9m 38s\tremaining: 2m 46s\n",
      "777:\tlearn: 0.3772168\ttotal: 9m 39s\tremaining: 2m 45s\n",
      "778:\tlearn: 0.3770086\ttotal: 9m 40s\tremaining: 2m 44s\n",
      "779:\tlearn: 0.3764961\ttotal: 9m 40s\tremaining: 2m 43s\n",
      "780:\tlearn: 0.3759354\ttotal: 9m 41s\tremaining: 2m 43s\n",
      "781:\tlearn: 0.3751867\ttotal: 9m 42s\tremaining: 2m 42s\n",
      "782:\tlearn: 0.3749898\ttotal: 9m 43s\tremaining: 2m 41s\n",
      "783:\tlearn: 0.3747671\ttotal: 9m 43s\tremaining: 2m 40s\n",
      "784:\tlearn: 0.3745554\ttotal: 9m 44s\tremaining: 2m 40s\n",
      "785:\tlearn: 0.3743837\ttotal: 9m 45s\tremaining: 2m 39s\n",
      "786:\tlearn: 0.3741679\ttotal: 9m 45s\tremaining: 2m 38s\n",
      "787:\tlearn: 0.3736786\ttotal: 9m 46s\tremaining: 2m 37s\n",
      "788:\tlearn: 0.3733140\ttotal: 9m 47s\tremaining: 2m 37s\n",
      "789:\tlearn: 0.3730882\ttotal: 9m 48s\tremaining: 2m 36s\n",
      "790:\tlearn: 0.3727801\ttotal: 9m 48s\tremaining: 2m 35s\n",
      "791:\tlearn: 0.3724890\ttotal: 9m 49s\tremaining: 2m 34s\n",
      "792:\tlearn: 0.3720997\ttotal: 9m 50s\tremaining: 2m 34s\n",
      "793:\tlearn: 0.3718790\ttotal: 9m 51s\tremaining: 2m 33s\n",
      "794:\tlearn: 0.3714904\ttotal: 9m 51s\tremaining: 2m 32s\n",
      "795:\tlearn: 0.3712551\ttotal: 9m 52s\tremaining: 2m 31s\n",
      "796:\tlearn: 0.3710428\ttotal: 9m 53s\tremaining: 2m 31s\n",
      "797:\tlearn: 0.3708279\ttotal: 9m 54s\tremaining: 2m 30s\n",
      "798:\tlearn: 0.3704889\ttotal: 9m 54s\tremaining: 2m 29s\n",
      "799:\tlearn: 0.3702711\ttotal: 9m 55s\tremaining: 2m 28s\n",
      "800:\tlearn: 0.3701152\ttotal: 9m 56s\tremaining: 2m 28s\n",
      "801:\tlearn: 0.3698733\ttotal: 9m 57s\tremaining: 2m 27s\n",
      "802:\tlearn: 0.3696146\ttotal: 9m 58s\tremaining: 2m 26s\n",
      "803:\tlearn: 0.3694493\ttotal: 9m 58s\tremaining: 2m 25s\n",
      "804:\tlearn: 0.3689699\ttotal: 9m 59s\tremaining: 2m 25s\n",
      "805:\tlearn: 0.3684207\ttotal: 10m\tremaining: 2m 24s\n",
      "806:\tlearn: 0.3681377\ttotal: 10m\tremaining: 2m 23s\n",
      "807:\tlearn: 0.3679206\ttotal: 10m 1s\tremaining: 2m 22s\n",
      "808:\tlearn: 0.3672864\ttotal: 10m 2s\tremaining: 2m 22s\n",
      "809:\tlearn: 0.3669516\ttotal: 10m 3s\tremaining: 2m 21s\n",
      "810:\tlearn: 0.3666907\ttotal: 10m 4s\tremaining: 2m 20s\n",
      "811:\tlearn: 0.3665904\ttotal: 10m 4s\tremaining: 2m 20s\n",
      "812:\tlearn: 0.3664365\ttotal: 10m 5s\tremaining: 2m 19s\n",
      "813:\tlearn: 0.3660727\ttotal: 10m 6s\tremaining: 2m 18s\n",
      "814:\tlearn: 0.3654497\ttotal: 10m 7s\tremaining: 2m 17s\n",
      "815:\tlearn: 0.3650816\ttotal: 10m 7s\tremaining: 2m 17s\n",
      "816:\tlearn: 0.3649158\ttotal: 10m 8s\tremaining: 2m 16s\n",
      "817:\tlearn: 0.3647615\ttotal: 10m 9s\tremaining: 2m 15s\n",
      "818:\tlearn: 0.3643063\ttotal: 10m 10s\tremaining: 2m 14s\n",
      "819:\tlearn: 0.3641135\ttotal: 10m 10s\tremaining: 2m 14s\n",
      "820:\tlearn: 0.3639202\ttotal: 10m 11s\tremaining: 2m 13s\n",
      "821:\tlearn: 0.3637363\ttotal: 10m 12s\tremaining: 2m 12s\n",
      "822:\tlearn: 0.3632837\ttotal: 10m 12s\tremaining: 2m 11s\n",
      "823:\tlearn: 0.3631137\ttotal: 10m 13s\tremaining: 2m 11s\n",
      "824:\tlearn: 0.3628859\ttotal: 10m 14s\tremaining: 2m 10s\n",
      "825:\tlearn: 0.3627103\ttotal: 10m 15s\tremaining: 2m 9s\n",
      "826:\tlearn: 0.3623067\ttotal: 10m 15s\tremaining: 2m 8s\n",
      "827:\tlearn: 0.3619255\ttotal: 10m 16s\tremaining: 2m 8s\n",
      "828:\tlearn: 0.3612787\ttotal: 10m 17s\tremaining: 2m 7s\n",
      "829:\tlearn: 0.3608642\ttotal: 10m 18s\tremaining: 2m 6s\n",
      "830:\tlearn: 0.3606965\ttotal: 10m 18s\tremaining: 2m 5s\n",
      "831:\tlearn: 0.3605386\ttotal: 10m 19s\tremaining: 2m 5s\n",
      "832:\tlearn: 0.3600918\ttotal: 10m 20s\tremaining: 2m 4s\n",
      "833:\tlearn: 0.3596119\ttotal: 10m 21s\tremaining: 2m 3s\n",
      "834:\tlearn: 0.3593916\ttotal: 10m 21s\tremaining: 2m 2s\n",
      "835:\tlearn: 0.3592340\ttotal: 10m 22s\tremaining: 2m 2s\n",
      "836:\tlearn: 0.3587985\ttotal: 10m 23s\tremaining: 2m 1s\n",
      "837:\tlearn: 0.3585896\ttotal: 10m 24s\tremaining: 2m\n",
      "838:\tlearn: 0.3581192\ttotal: 10m 24s\tremaining: 1m 59s\n",
      "839:\tlearn: 0.3579517\ttotal: 10m 25s\tremaining: 1m 59s\n",
      "840:\tlearn: 0.3578044\ttotal: 10m 26s\tremaining: 1m 58s\n",
      "841:\tlearn: 0.3576501\ttotal: 10m 27s\tremaining: 1m 57s\n",
      "842:\tlearn: 0.3572939\ttotal: 10m 27s\tremaining: 1m 56s\n",
      "843:\tlearn: 0.3570529\ttotal: 10m 28s\tremaining: 1m 56s\n",
      "844:\tlearn: 0.3568612\ttotal: 10m 29s\tremaining: 1m 55s\n",
      "845:\tlearn: 0.3565415\ttotal: 10m 30s\tremaining: 1m 54s\n",
      "846:\tlearn: 0.3563586\ttotal: 10m 30s\tremaining: 1m 53s\n",
      "847:\tlearn: 0.3558302\ttotal: 10m 31s\tremaining: 1m 53s\n",
      "848:\tlearn: 0.3553487\ttotal: 10m 32s\tremaining: 1m 52s\n",
      "849:\tlearn: 0.3546514\ttotal: 10m 33s\tremaining: 1m 51s\n",
      "850:\tlearn: 0.3543600\ttotal: 10m 33s\tremaining: 1m 50s\n",
      "851:\tlearn: 0.3540458\ttotal: 10m 34s\tremaining: 1m 50s\n",
      "852:\tlearn: 0.3536784\ttotal: 10m 35s\tremaining: 1m 49s\n",
      "853:\tlearn: 0.3535214\ttotal: 10m 35s\tremaining: 1m 48s\n",
      "854:\tlearn: 0.3533725\ttotal: 10m 36s\tremaining: 1m 47s\n",
      "855:\tlearn: 0.3529896\ttotal: 10m 37s\tremaining: 1m 47s\n",
      "856:\tlearn: 0.3527100\ttotal: 10m 38s\tremaining: 1m 46s\n",
      "857:\tlearn: 0.3525620\ttotal: 10m 38s\tremaining: 1m 45s\n",
      "858:\tlearn: 0.3524268\ttotal: 10m 39s\tremaining: 1m 45s\n",
      "859:\tlearn: 0.3521219\ttotal: 10m 40s\tremaining: 1m 44s\n",
      "860:\tlearn: 0.3518533\ttotal: 10m 41s\tremaining: 1m 43s\n",
      "861:\tlearn: 0.3513867\ttotal: 10m 41s\tremaining: 1m 42s\n",
      "862:\tlearn: 0.3510257\ttotal: 10m 42s\tremaining: 1m 42s\n",
      "863:\tlearn: 0.3509308\ttotal: 10m 43s\tremaining: 1m 41s\n",
      "864:\tlearn: 0.3507202\ttotal: 10m 44s\tremaining: 1m 40s\n",
      "865:\tlearn: 0.3499265\ttotal: 10m 44s\tremaining: 1m 39s\n",
      "866:\tlearn: 0.3496838\ttotal: 10m 45s\tremaining: 1m 39s\n",
      "867:\tlearn: 0.3492403\ttotal: 10m 46s\tremaining: 1m 38s\n",
      "868:\tlearn: 0.3490514\ttotal: 10m 47s\tremaining: 1m 37s\n",
      "869:\tlearn: 0.3486671\ttotal: 10m 47s\tremaining: 1m 36s\n",
      "870:\tlearn: 0.3483960\ttotal: 10m 48s\tremaining: 1m 36s\n",
      "871:\tlearn: 0.3481707\ttotal: 10m 49s\tremaining: 1m 35s\n",
      "872:\tlearn: 0.3479346\ttotal: 10m 50s\tremaining: 1m 34s\n",
      "873:\tlearn: 0.3477715\ttotal: 10m 50s\tremaining: 1m 33s\n",
      "874:\tlearn: 0.3474595\ttotal: 10m 51s\tremaining: 1m 33s\n",
      "875:\tlearn: 0.3472770\ttotal: 10m 52s\tremaining: 1m 32s\n",
      "876:\tlearn: 0.3469403\ttotal: 10m 53s\tremaining: 1m 31s\n",
      "877:\tlearn: 0.3467133\ttotal: 10m 53s\tremaining: 1m 30s\n",
      "878:\tlearn: 0.3465441\ttotal: 10m 54s\tremaining: 1m 30s\n",
      "879:\tlearn: 0.3463613\ttotal: 10m 55s\tremaining: 1m 29s\n",
      "880:\tlearn: 0.3460976\ttotal: 10m 56s\tremaining: 1m 28s\n",
      "881:\tlearn: 0.3459398\ttotal: 10m 56s\tremaining: 1m 27s\n",
      "882:\tlearn: 0.3453472\ttotal: 10m 57s\tremaining: 1m 27s\n",
      "883:\tlearn: 0.3451850\ttotal: 10m 58s\tremaining: 1m 26s\n",
      "884:\tlearn: 0.3446926\ttotal: 10m 59s\tremaining: 1m 25s\n",
      "885:\tlearn: 0.3442809\ttotal: 10m 59s\tremaining: 1m 24s\n",
      "886:\tlearn: 0.3440864\ttotal: 11m\tremaining: 1m 24s\n",
      "887:\tlearn: 0.3439081\ttotal: 11m 1s\tremaining: 1m 23s\n",
      "888:\tlearn: 0.3435701\ttotal: 11m 2s\tremaining: 1m 22s\n",
      "889:\tlearn: 0.3431470\ttotal: 11m 2s\tremaining: 1m 21s\n",
      "890:\tlearn: 0.3430039\ttotal: 11m 3s\tremaining: 1m 21s\n",
      "891:\tlearn: 0.3424124\ttotal: 11m 4s\tremaining: 1m 20s\n",
      "892:\tlearn: 0.3420714\ttotal: 11m 5s\tremaining: 1m 19s\n",
      "893:\tlearn: 0.3416930\ttotal: 11m 5s\tremaining: 1m 18s\n",
      "894:\tlearn: 0.3414021\ttotal: 11m 6s\tremaining: 1m 18s\n",
      "895:\tlearn: 0.3406781\ttotal: 11m 7s\tremaining: 1m 17s\n",
      "896:\tlearn: 0.3404965\ttotal: 11m 7s\tremaining: 1m 16s\n",
      "897:\tlearn: 0.3402388\ttotal: 11m 8s\tremaining: 1m 15s\n",
      "898:\tlearn: 0.3400168\ttotal: 11m 9s\tremaining: 1m 15s\n",
      "899:\tlearn: 0.3396522\ttotal: 11m 10s\tremaining: 1m 14s\n",
      "900:\tlearn: 0.3389653\ttotal: 11m 11s\tremaining: 1m 13s\n",
      "901:\tlearn: 0.3386544\ttotal: 11m 11s\tremaining: 1m 12s\n",
      "902:\tlearn: 0.3385187\ttotal: 11m 12s\tremaining: 1m 12s\n",
      "903:\tlearn: 0.3383024\ttotal: 11m 13s\tremaining: 1m 11s\n",
      "904:\tlearn: 0.3381335\ttotal: 11m 14s\tremaining: 1m 10s\n",
      "905:\tlearn: 0.3376096\ttotal: 11m 14s\tremaining: 1m 10s\n",
      "906:\tlearn: 0.3370865\ttotal: 11m 15s\tremaining: 1m 9s\n",
      "907:\tlearn: 0.3366059\ttotal: 11m 16s\tremaining: 1m 8s\n",
      "908:\tlearn: 0.3362297\ttotal: 11m 17s\tremaining: 1m 7s\n",
      "909:\tlearn: 0.3359857\ttotal: 11m 17s\tremaining: 1m 7s\n",
      "910:\tlearn: 0.3357985\ttotal: 11m 18s\tremaining: 1m 6s\n",
      "911:\tlearn: 0.3354604\ttotal: 11m 19s\tremaining: 1m 5s\n",
      "912:\tlearn: 0.3349848\ttotal: 11m 20s\tremaining: 1m 4s\n",
      "913:\tlearn: 0.3348224\ttotal: 11m 21s\tremaining: 1m 4s\n",
      "914:\tlearn: 0.3342609\ttotal: 11m 21s\tremaining: 1m 3s\n",
      "915:\tlearn: 0.3340657\ttotal: 11m 22s\tremaining: 1m 2s\n",
      "916:\tlearn: 0.3338467\ttotal: 11m 23s\tremaining: 1m 1s\n",
      "917:\tlearn: 0.3334054\ttotal: 11m 24s\tremaining: 1m 1s\n",
      "918:\tlearn: 0.3332192\ttotal: 11m 24s\tremaining: 1m\n",
      "919:\tlearn: 0.3330397\ttotal: 11m 25s\tremaining: 59.6s\n",
      "920:\tlearn: 0.3326292\ttotal: 11m 26s\tremaining: 58.9s\n",
      "921:\tlearn: 0.3324729\ttotal: 11m 26s\tremaining: 58.1s\n",
      "922:\tlearn: 0.3323066\ttotal: 11m 27s\tremaining: 57.4s\n",
      "923:\tlearn: 0.3321315\ttotal: 11m 28s\tremaining: 56.6s\n",
      "924:\tlearn: 0.3319596\ttotal: 11m 29s\tremaining: 55.9s\n",
      "925:\tlearn: 0.3317990\ttotal: 11m 29s\tremaining: 55.1s\n",
      "926:\tlearn: 0.3311186\ttotal: 11m 30s\tremaining: 54.4s\n",
      "927:\tlearn: 0.3309795\ttotal: 11m 31s\tremaining: 53.6s\n",
      "928:\tlearn: 0.3308231\ttotal: 11m 32s\tremaining: 52.9s\n",
      "929:\tlearn: 0.3305859\ttotal: 11m 32s\tremaining: 52.2s\n",
      "930:\tlearn: 0.3303292\ttotal: 11m 33s\tremaining: 51.4s\n",
      "931:\tlearn: 0.3298719\ttotal: 11m 34s\tremaining: 50.7s\n",
      "932:\tlearn: 0.3297434\ttotal: 11m 35s\tremaining: 49.9s\n",
      "933:\tlearn: 0.3293096\ttotal: 11m 35s\tremaining: 49.2s\n",
      "934:\tlearn: 0.3288664\ttotal: 11m 36s\tremaining: 48.4s\n",
      "935:\tlearn: 0.3287182\ttotal: 11m 37s\tremaining: 47.7s\n",
      "936:\tlearn: 0.3285851\ttotal: 11m 38s\tremaining: 46.9s\n",
      "937:\tlearn: 0.3283466\ttotal: 11m 38s\tremaining: 46.2s\n",
      "938:\tlearn: 0.3278518\ttotal: 11m 39s\tremaining: 45.5s\n",
      "939:\tlearn: 0.3275925\ttotal: 11m 40s\tremaining: 44.7s\n",
      "940:\tlearn: 0.3273652\ttotal: 11m 41s\tremaining: 44s\n",
      "941:\tlearn: 0.3272156\ttotal: 11m 41s\tremaining: 43.2s\n",
      "942:\tlearn: 0.3270228\ttotal: 11m 42s\tremaining: 42.5s\n",
      "943:\tlearn: 0.3265260\ttotal: 11m 43s\tremaining: 41.7s\n",
      "944:\tlearn: 0.3263531\ttotal: 11m 44s\tremaining: 41s\n",
      "945:\tlearn: 0.3260706\ttotal: 11m 44s\tremaining: 40.2s\n",
      "946:\tlearn: 0.3259452\ttotal: 11m 45s\tremaining: 39.5s\n",
      "947:\tlearn: 0.3258250\ttotal: 11m 46s\tremaining: 38.8s\n",
      "948:\tlearn: 0.3253856\ttotal: 11m 47s\tremaining: 38s\n",
      "949:\tlearn: 0.3249853\ttotal: 11m 48s\tremaining: 37.3s\n",
      "950:\tlearn: 0.3248167\ttotal: 11m 48s\tremaining: 36.5s\n",
      "951:\tlearn: 0.3244917\ttotal: 11m 49s\tremaining: 35.8s\n",
      "952:\tlearn: 0.3241551\ttotal: 11m 50s\tremaining: 35s\n",
      "953:\tlearn: 0.3238056\ttotal: 11m 51s\tremaining: 34.3s\n",
      "954:\tlearn: 0.3236455\ttotal: 11m 51s\tremaining: 33.5s\n",
      "955:\tlearn: 0.3234936\ttotal: 11m 52s\tremaining: 32.8s\n",
      "956:\tlearn: 0.3229146\ttotal: 11m 53s\tremaining: 32.1s\n",
      "957:\tlearn: 0.3226486\ttotal: 11m 54s\tremaining: 31.3s\n",
      "958:\tlearn: 0.3225023\ttotal: 11m 54s\tremaining: 30.6s\n",
      "959:\tlearn: 0.3222266\ttotal: 11m 55s\tremaining: 29.8s\n",
      "960:\tlearn: 0.3220255\ttotal: 11m 56s\tremaining: 29.1s\n",
      "961:\tlearn: 0.3218294\ttotal: 11m 57s\tremaining: 28.3s\n",
      "962:\tlearn: 0.3216753\ttotal: 11m 57s\tremaining: 27.6s\n",
      "963:\tlearn: 0.3215869\ttotal: 11m 58s\tremaining: 26.8s\n",
      "964:\tlearn: 0.3214803\ttotal: 11m 59s\tremaining: 26.1s\n",
      "965:\tlearn: 0.3213512\ttotal: 12m\tremaining: 25.3s\n",
      "966:\tlearn: 0.3211894\ttotal: 12m\tremaining: 24.6s\n",
      "967:\tlearn: 0.3207476\ttotal: 12m 1s\tremaining: 23.9s\n",
      "968:\tlearn: 0.3206063\ttotal: 12m 2s\tremaining: 23.1s\n",
      "969:\tlearn: 0.3204218\ttotal: 12m 3s\tremaining: 22.4s\n",
      "970:\tlearn: 0.3202776\ttotal: 12m 3s\tremaining: 21.6s\n",
      "971:\tlearn: 0.3197512\ttotal: 12m 4s\tremaining: 20.9s\n",
      "972:\tlearn: 0.3196016\ttotal: 12m 5s\tremaining: 20.1s\n",
      "973:\tlearn: 0.3193911\ttotal: 12m 5s\tremaining: 19.4s\n",
      "974:\tlearn: 0.3189877\ttotal: 12m 6s\tremaining: 18.6s\n",
      "975:\tlearn: 0.3188061\ttotal: 12m 7s\tremaining: 17.9s\n",
      "976:\tlearn: 0.3182322\ttotal: 12m 8s\tremaining: 17.1s\n",
      "977:\tlearn: 0.3180525\ttotal: 12m 8s\tremaining: 16.4s\n",
      "978:\tlearn: 0.3176577\ttotal: 12m 9s\tremaining: 15.7s\n",
      "979:\tlearn: 0.3173948\ttotal: 12m 10s\tremaining: 14.9s\n",
      "980:\tlearn: 0.3171922\ttotal: 12m 11s\tremaining: 14.2s\n",
      "981:\tlearn: 0.3169136\ttotal: 12m 11s\tremaining: 13.4s\n",
      "982:\tlearn: 0.3167514\ttotal: 12m 12s\tremaining: 12.7s\n",
      "983:\tlearn: 0.3163829\ttotal: 12m 13s\tremaining: 11.9s\n",
      "984:\tlearn: 0.3162656\ttotal: 12m 14s\tremaining: 11.2s\n",
      "985:\tlearn: 0.3157830\ttotal: 12m 14s\tremaining: 10.4s\n",
      "986:\tlearn: 0.3156261\ttotal: 12m 15s\tremaining: 9.69s\n",
      "987:\tlearn: 0.3153613\ttotal: 12m 16s\tremaining: 8.94s\n",
      "988:\tlearn: 0.3150416\ttotal: 12m 17s\tremaining: 8.2s\n",
      "989:\tlearn: 0.3144962\ttotal: 12m 17s\tremaining: 7.45s\n",
      "990:\tlearn: 0.3143575\ttotal: 12m 18s\tremaining: 6.71s\n",
      "991:\tlearn: 0.3141473\ttotal: 12m 19s\tremaining: 5.96s\n",
      "992:\tlearn: 0.3139715\ttotal: 12m 20s\tremaining: 5.22s\n",
      "993:\tlearn: 0.3135551\ttotal: 12m 21s\tremaining: 4.47s\n",
      "994:\tlearn: 0.3134457\ttotal: 12m 21s\tremaining: 3.73s\n",
      "995:\tlearn: 0.3133202\ttotal: 12m 22s\tremaining: 2.98s\n",
      "996:\tlearn: 0.3129428\ttotal: 12m 23s\tremaining: 2.24s\n",
      "997:\tlearn: 0.3125567\ttotal: 12m 24s\tremaining: 1.49s\n",
      "998:\tlearn: 0.3123955\ttotal: 12m 24s\tremaining: 745ms\n",
      "999:\tlearn: 0.3122120\ttotal: 12m 25s\tremaining: 0us\n"
     ]
    },
    {
     "data": {
      "text/plain": [
       "<catboost.core.CatBoostRegressor at 0x15dff7e2ca0>"
      ]
     },
     "execution_count": 68,
     "metadata": {},
     "output_type": "execute_result"
    }
   ],
   "source": [
    "cbc.fit(train_x, train_y)"
   ]
  },
  {
   "cell_type": "code",
   "execution_count": 69,
   "id": "05326866",
   "metadata": {},
   "outputs": [
    {
     "data": {
      "text/plain": [
       "0.9061739624987026"
      ]
     },
     "execution_count": 69,
     "metadata": {},
     "output_type": "execute_result"
    }
   ],
   "source": [
    "cbc.score(train_x, train_y)"
   ]
  },
  {
   "cell_type": "code",
   "execution_count": 70,
   "id": "8b6df02c",
   "metadata": {},
   "outputs": [],
   "source": [
    "pred_cbc = cbc.predict(test_x)"
   ]
  },
  {
   "cell_type": "code",
   "execution_count": 71,
   "id": "851266ed",
   "metadata": {},
   "outputs": [
    {
     "data": {
      "text/plain": [
       "5525704603826.897"
      ]
     },
     "execution_count": 71,
     "metadata": {},
     "output_type": "execute_result"
    }
   ],
   "source": [
    "mean_absolute_percentage_error(test_y, pred_cbc)"
   ]
  },
  {
   "cell_type": "code",
   "execution_count": 72,
   "id": "36679563",
   "metadata": {},
   "outputs": [
    {
     "data": {
      "text/plain": [
       "0.7930786013232363"
      ]
     },
     "execution_count": 72,
     "metadata": {},
     "output_type": "execute_result"
    }
   ],
   "source": [
    "rmse_cbc = np.sqrt(mean_squared_error(test_y, pred_cbc))\n",
    "rmse_cbc"
   ]
  },
  {
   "cell_type": "code",
   "execution_count": null,
   "id": "17f1709b",
   "metadata": {},
   "outputs": [],
   "source": []
  },
  {
   "cell_type": "code",
   "execution_count": null,
   "id": "11494cc4",
   "metadata": {},
   "outputs": [],
   "source": []
  },
  {
   "cell_type": "markdown",
   "id": "21155caa",
   "metadata": {},
   "source": [
    "#### Gradient boost regressor"
   ]
  },
  {
   "cell_type": "code",
   "execution_count": 73,
   "id": "30c85fb2",
   "metadata": {},
   "outputs": [],
   "source": [
    "from sklearn.ensemble import GradientBoostingRegressor\n",
    "\n",
    "gbc = GradientBoostingRegressor(max_depth=16)"
   ]
  },
  {
   "cell_type": "code",
   "execution_count": 74,
   "id": "19c39ee8",
   "metadata": {},
   "outputs": [
    {
     "data": {
      "text/html": [
       "<style>#sk-container-id-4 {color: black;background-color: white;}#sk-container-id-4 pre{padding: 0;}#sk-container-id-4 div.sk-toggleable {background-color: white;}#sk-container-id-4 label.sk-toggleable__label {cursor: pointer;display: block;width: 100%;margin-bottom: 0;padding: 0.3em;box-sizing: border-box;text-align: center;}#sk-container-id-4 label.sk-toggleable__label-arrow:before {content: \"▸\";float: left;margin-right: 0.25em;color: #696969;}#sk-container-id-4 label.sk-toggleable__label-arrow:hover:before {color: black;}#sk-container-id-4 div.sk-estimator:hover label.sk-toggleable__label-arrow:before {color: black;}#sk-container-id-4 div.sk-toggleable__content {max-height: 0;max-width: 0;overflow: hidden;text-align: left;background-color: #f0f8ff;}#sk-container-id-4 div.sk-toggleable__content pre {margin: 0.2em;color: black;border-radius: 0.25em;background-color: #f0f8ff;}#sk-container-id-4 input.sk-toggleable__control:checked~div.sk-toggleable__content {max-height: 200px;max-width: 100%;overflow: auto;}#sk-container-id-4 input.sk-toggleable__control:checked~label.sk-toggleable__label-arrow:before {content: \"▾\";}#sk-container-id-4 div.sk-estimator input.sk-toggleable__control:checked~label.sk-toggleable__label {background-color: #d4ebff;}#sk-container-id-4 div.sk-label input.sk-toggleable__control:checked~label.sk-toggleable__label {background-color: #d4ebff;}#sk-container-id-4 input.sk-hidden--visually {border: 0;clip: rect(1px 1px 1px 1px);clip: rect(1px, 1px, 1px, 1px);height: 1px;margin: -1px;overflow: hidden;padding: 0;position: absolute;width: 1px;}#sk-container-id-4 div.sk-estimator {font-family: monospace;background-color: #f0f8ff;border: 1px dotted black;border-radius: 0.25em;box-sizing: border-box;margin-bottom: 0.5em;}#sk-container-id-4 div.sk-estimator:hover {background-color: #d4ebff;}#sk-container-id-4 div.sk-parallel-item::after {content: \"\";width: 100%;border-bottom: 1px solid gray;flex-grow: 1;}#sk-container-id-4 div.sk-label:hover label.sk-toggleable__label {background-color: #d4ebff;}#sk-container-id-4 div.sk-serial::before {content: \"\";position: absolute;border-left: 1px solid gray;box-sizing: border-box;top: 0;bottom: 0;left: 50%;z-index: 0;}#sk-container-id-4 div.sk-serial {display: flex;flex-direction: column;align-items: center;background-color: white;padding-right: 0.2em;padding-left: 0.2em;position: relative;}#sk-container-id-4 div.sk-item {position: relative;z-index: 1;}#sk-container-id-4 div.sk-parallel {display: flex;align-items: stretch;justify-content: center;background-color: white;position: relative;}#sk-container-id-4 div.sk-item::before, #sk-container-id-4 div.sk-parallel-item::before {content: \"\";position: absolute;border-left: 1px solid gray;box-sizing: border-box;top: 0;bottom: 0;left: 50%;z-index: -1;}#sk-container-id-4 div.sk-parallel-item {display: flex;flex-direction: column;z-index: 1;position: relative;background-color: white;}#sk-container-id-4 div.sk-parallel-item:first-child::after {align-self: flex-end;width: 50%;}#sk-container-id-4 div.sk-parallel-item:last-child::after {align-self: flex-start;width: 50%;}#sk-container-id-4 div.sk-parallel-item:only-child::after {width: 0;}#sk-container-id-4 div.sk-dashed-wrapped {border: 1px dashed gray;margin: 0 0.4em 0.5em 0.4em;box-sizing: border-box;padding-bottom: 0.4em;background-color: white;}#sk-container-id-4 div.sk-label label {font-family: monospace;font-weight: bold;display: inline-block;line-height: 1.2em;}#sk-container-id-4 div.sk-label-container {text-align: center;}#sk-container-id-4 div.sk-container {/* jupyter's `normalize.less` sets `[hidden] { display: none; }` but bootstrap.min.css set `[hidden] { display: none !important; }` so we also need the `!important` here to be able to override the default hidden behavior on the sphinx rendered scikit-learn.org. See: https://github.com/scikit-learn/scikit-learn/issues/21755 */display: inline-block !important;position: relative;}#sk-container-id-4 div.sk-text-repr-fallback {display: none;}</style><div id=\"sk-container-id-4\" class=\"sk-top-container\"><div class=\"sk-text-repr-fallback\"><pre>GradientBoostingRegressor(max_depth=16)</pre><b>In a Jupyter environment, please rerun this cell to show the HTML representation or trust the notebook. <br />On GitHub, the HTML representation is unable to render, please try loading this page with nbviewer.org.</b></div><div class=\"sk-container\" hidden><div class=\"sk-item\"><div class=\"sk-estimator sk-toggleable\"><input class=\"sk-toggleable__control sk-hidden--visually\" id=\"sk-estimator-id-4\" type=\"checkbox\" checked><label for=\"sk-estimator-id-4\" class=\"sk-toggleable__label sk-toggleable__label-arrow\">GradientBoostingRegressor</label><div class=\"sk-toggleable__content\"><pre>GradientBoostingRegressor(max_depth=16)</pre></div></div></div></div></div>"
      ],
      "text/plain": [
       "GradientBoostingRegressor(max_depth=16)"
      ]
     },
     "execution_count": 74,
     "metadata": {},
     "output_type": "execute_result"
    }
   ],
   "source": [
    "gbc.fit(train_x, train_y)"
   ]
  },
  {
   "cell_type": "code",
   "execution_count": 75,
   "id": "d921aa38",
   "metadata": {},
   "outputs": [
    {
     "data": {
      "text/plain": [
       "0.9749986008709297"
      ]
     },
     "execution_count": 75,
     "metadata": {},
     "output_type": "execute_result"
    }
   ],
   "source": [
    "gbc.score(train_x, train_y)"
   ]
  },
  {
   "cell_type": "code",
   "execution_count": 76,
   "id": "181b6065",
   "metadata": {},
   "outputs": [],
   "source": [
    "pred_gbc = gbc.predict(test_x)"
   ]
  },
  {
   "cell_type": "code",
   "execution_count": 77,
   "id": "25067bf0",
   "metadata": {},
   "outputs": [
    {
     "data": {
      "text/plain": [
       "0.8915470251731155"
      ]
     },
     "execution_count": 77,
     "metadata": {},
     "output_type": "execute_result"
    }
   ],
   "source": [
    "rmse_gbc = np.sqrt(mean_squared_error(test_y, pred_gbc))\n",
    "rmse_gbc"
   ]
  },
  {
   "cell_type": "code",
   "execution_count": null,
   "id": "b07af998",
   "metadata": {},
   "outputs": [],
   "source": []
  },
  {
   "cell_type": "code",
   "execution_count": 78,
   "id": "249c3e9c",
   "metadata": {},
   "outputs": [],
   "source": [
    "from xgboost import XGBRFRegressor\n",
    "xgb = XGBRFRegressor()"
   ]
  },
  {
   "cell_type": "code",
   "execution_count": 79,
   "id": "dba3d047",
   "metadata": {},
   "outputs": [
    {
     "data": {
      "text/html": [
       "<style>#sk-container-id-5 {color: black;background-color: white;}#sk-container-id-5 pre{padding: 0;}#sk-container-id-5 div.sk-toggleable {background-color: white;}#sk-container-id-5 label.sk-toggleable__label {cursor: pointer;display: block;width: 100%;margin-bottom: 0;padding: 0.3em;box-sizing: border-box;text-align: center;}#sk-container-id-5 label.sk-toggleable__label-arrow:before {content: \"▸\";float: left;margin-right: 0.25em;color: #696969;}#sk-container-id-5 label.sk-toggleable__label-arrow:hover:before {color: black;}#sk-container-id-5 div.sk-estimator:hover label.sk-toggleable__label-arrow:before {color: black;}#sk-container-id-5 div.sk-toggleable__content {max-height: 0;max-width: 0;overflow: hidden;text-align: left;background-color: #f0f8ff;}#sk-container-id-5 div.sk-toggleable__content pre {margin: 0.2em;color: black;border-radius: 0.25em;background-color: #f0f8ff;}#sk-container-id-5 input.sk-toggleable__control:checked~div.sk-toggleable__content {max-height: 200px;max-width: 100%;overflow: auto;}#sk-container-id-5 input.sk-toggleable__control:checked~label.sk-toggleable__label-arrow:before {content: \"▾\";}#sk-container-id-5 div.sk-estimator input.sk-toggleable__control:checked~label.sk-toggleable__label {background-color: #d4ebff;}#sk-container-id-5 div.sk-label input.sk-toggleable__control:checked~label.sk-toggleable__label {background-color: #d4ebff;}#sk-container-id-5 input.sk-hidden--visually {border: 0;clip: rect(1px 1px 1px 1px);clip: rect(1px, 1px, 1px, 1px);height: 1px;margin: -1px;overflow: hidden;padding: 0;position: absolute;width: 1px;}#sk-container-id-5 div.sk-estimator {font-family: monospace;background-color: #f0f8ff;border: 1px dotted black;border-radius: 0.25em;box-sizing: border-box;margin-bottom: 0.5em;}#sk-container-id-5 div.sk-estimator:hover {background-color: #d4ebff;}#sk-container-id-5 div.sk-parallel-item::after {content: \"\";width: 100%;border-bottom: 1px solid gray;flex-grow: 1;}#sk-container-id-5 div.sk-label:hover label.sk-toggleable__label {background-color: #d4ebff;}#sk-container-id-5 div.sk-serial::before {content: \"\";position: absolute;border-left: 1px solid gray;box-sizing: border-box;top: 0;bottom: 0;left: 50%;z-index: 0;}#sk-container-id-5 div.sk-serial {display: flex;flex-direction: column;align-items: center;background-color: white;padding-right: 0.2em;padding-left: 0.2em;position: relative;}#sk-container-id-5 div.sk-item {position: relative;z-index: 1;}#sk-container-id-5 div.sk-parallel {display: flex;align-items: stretch;justify-content: center;background-color: white;position: relative;}#sk-container-id-5 div.sk-item::before, #sk-container-id-5 div.sk-parallel-item::before {content: \"\";position: absolute;border-left: 1px solid gray;box-sizing: border-box;top: 0;bottom: 0;left: 50%;z-index: -1;}#sk-container-id-5 div.sk-parallel-item {display: flex;flex-direction: column;z-index: 1;position: relative;background-color: white;}#sk-container-id-5 div.sk-parallel-item:first-child::after {align-self: flex-end;width: 50%;}#sk-container-id-5 div.sk-parallel-item:last-child::after {align-self: flex-start;width: 50%;}#sk-container-id-5 div.sk-parallel-item:only-child::after {width: 0;}#sk-container-id-5 div.sk-dashed-wrapped {border: 1px dashed gray;margin: 0 0.4em 0.5em 0.4em;box-sizing: border-box;padding-bottom: 0.4em;background-color: white;}#sk-container-id-5 div.sk-label label {font-family: monospace;font-weight: bold;display: inline-block;line-height: 1.2em;}#sk-container-id-5 div.sk-label-container {text-align: center;}#sk-container-id-5 div.sk-container {/* jupyter's `normalize.less` sets `[hidden] { display: none; }` but bootstrap.min.css set `[hidden] { display: none !important; }` so we also need the `!important` here to be able to override the default hidden behavior on the sphinx rendered scikit-learn.org. See: https://github.com/scikit-learn/scikit-learn/issues/21755 */display: inline-block !important;position: relative;}#sk-container-id-5 div.sk-text-repr-fallback {display: none;}</style><div id=\"sk-container-id-5\" class=\"sk-top-container\"><div class=\"sk-text-repr-fallback\"><pre>XGBRFRegressor(base_score=0.5, booster=&#x27;gbtree&#x27;, callbacks=None,\n",
       "               colsample_bylevel=1, colsample_bytree=1,\n",
       "               early_stopping_rounds=None, enable_categorical=False,\n",
       "               eval_metric=None, gamma=0, gpu_id=-1, grow_policy=&#x27;depthwise&#x27;,\n",
       "               importance_type=None, interaction_constraints=&#x27;&#x27;, max_bin=256,\n",
       "               max_cat_to_onehot=4, max_delta_step=0, max_depth=6, max_leaves=0,\n",
       "               min_child_weight=1, missing=nan, monotone_constraints=&#x27;()&#x27;,\n",
       "               n_estimators=100, n_jobs=0, num_parallel_tree=100,\n",
       "               objective=&#x27;reg:squarederror&#x27;, predictor=&#x27;auto&#x27;, random_state=0,\n",
       "               reg_alpha=0, sampling_method=&#x27;uniform&#x27;, scale_pos_weight=1, ...)</pre><b>In a Jupyter environment, please rerun this cell to show the HTML representation or trust the notebook. <br />On GitHub, the HTML representation is unable to render, please try loading this page with nbviewer.org.</b></div><div class=\"sk-container\" hidden><div class=\"sk-item\"><div class=\"sk-estimator sk-toggleable\"><input class=\"sk-toggleable__control sk-hidden--visually\" id=\"sk-estimator-id-5\" type=\"checkbox\" checked><label for=\"sk-estimator-id-5\" class=\"sk-toggleable__label sk-toggleable__label-arrow\">XGBRFRegressor</label><div class=\"sk-toggleable__content\"><pre>XGBRFRegressor(base_score=0.5, booster=&#x27;gbtree&#x27;, callbacks=None,\n",
       "               colsample_bylevel=1, colsample_bytree=1,\n",
       "               early_stopping_rounds=None, enable_categorical=False,\n",
       "               eval_metric=None, gamma=0, gpu_id=-1, grow_policy=&#x27;depthwise&#x27;,\n",
       "               importance_type=None, interaction_constraints=&#x27;&#x27;, max_bin=256,\n",
       "               max_cat_to_onehot=4, max_delta_step=0, max_depth=6, max_leaves=0,\n",
       "               min_child_weight=1, missing=nan, monotone_constraints=&#x27;()&#x27;,\n",
       "               n_estimators=100, n_jobs=0, num_parallel_tree=100,\n",
       "               objective=&#x27;reg:squarederror&#x27;, predictor=&#x27;auto&#x27;, random_state=0,\n",
       "               reg_alpha=0, sampling_method=&#x27;uniform&#x27;, scale_pos_weight=1, ...)</pre></div></div></div></div></div>"
      ],
      "text/plain": [
       "XGBRFRegressor(base_score=0.5, booster='gbtree', callbacks=None,\n",
       "               colsample_bylevel=1, colsample_bytree=1,\n",
       "               early_stopping_rounds=None, enable_categorical=False,\n",
       "               eval_metric=None, gamma=0, gpu_id=-1, grow_policy='depthwise',\n",
       "               importance_type=None, interaction_constraints='', max_bin=256,\n",
       "               max_cat_to_onehot=4, max_delta_step=0, max_depth=6, max_leaves=0,\n",
       "               min_child_weight=1, missing=nan, monotone_constraints='()',\n",
       "               n_estimators=100, n_jobs=0, num_parallel_tree=100,\n",
       "               objective='reg:squarederror', predictor='auto', random_state=0,\n",
       "               reg_alpha=0, sampling_method='uniform', scale_pos_weight=1, ...)"
      ]
     },
     "execution_count": 79,
     "metadata": {},
     "output_type": "execute_result"
    }
   ],
   "source": [
    "xgb.fit(train_x, train_y)"
   ]
  },
  {
   "cell_type": "code",
   "execution_count": 80,
   "id": "82193507",
   "metadata": {},
   "outputs": [
    {
     "data": {
      "text/plain": [
       "0.3357857625680507"
      ]
     },
     "execution_count": 80,
     "metadata": {},
     "output_type": "execute_result"
    }
   ],
   "source": [
    "xgb.score(train_x, train_y)"
   ]
  },
  {
   "cell_type": "code",
   "execution_count": 81,
   "id": "b9d2ceca",
   "metadata": {},
   "outputs": [],
   "source": [
    "pred_xgb = xgb.predict(test_x)"
   ]
  },
  {
   "cell_type": "code",
   "execution_count": 83,
   "id": "eaf6fde1",
   "metadata": {},
   "outputs": [
    {
     "data": {
      "text/plain": [
       "0.9764332744848206"
      ]
     },
     "execution_count": 83,
     "metadata": {},
     "output_type": "execute_result"
    }
   ],
   "source": [
    "rmse_xgb = np.sqrt(mean_squared_error(test_y, pred_xgb))\n",
    "rmse_xgb"
   ]
  },
  {
   "cell_type": "code",
   "execution_count": null,
   "id": "45d822ac",
   "metadata": {},
   "outputs": [],
   "source": []
  },
  {
   "cell_type": "code",
   "execution_count": null,
   "id": "794720a3",
   "metadata": {},
   "outputs": [],
   "source": []
  },
  {
   "cell_type": "code",
   "execution_count": null,
   "id": "877aa576",
   "metadata": {},
   "outputs": [],
   "source": []
  },
  {
   "cell_type": "code",
   "execution_count": null,
   "id": "ca0e41a3",
   "metadata": {},
   "outputs": [],
   "source": []
  },
  {
   "cell_type": "code",
   "execution_count": 84,
   "id": "7c1528d0",
   "metadata": {},
   "outputs": [],
   "source": [
    "## 6.To remove outliers         "
   ]
  },
  {
   "cell_type": "code",
   "execution_count": 85,
   "id": "78331b8c",
   "metadata": {},
   "outputs": [],
   "source": [
    "def remove_outliers(df, col, k):\n",
    "    mean = df[col].mean()\n",
    "    global df1\n",
    "    sd= df[col].std()\n",
    "    final_list =[x for x in df[col] if (x > mean-k*sd)]\n",
    "    final_list =[x for x in final_list if (x < mean+k*sd)]\n",
    "    # print (final_list); df=df.loc[df[col].isin(final_list)]; print(df.shape); return df\n",
    "    df1= df.loc[df[col].isin(final_list)]; print(df1.shape)\n",
    "    print(\"Number of Outliers removed==>\" , df.shape[0]- df1.shape[0])\n"
   ]
  },
  {
   "cell_type": "code",
   "execution_count": 86,
   "id": "f7122154",
   "metadata": {},
   "outputs": [],
   "source": [
    "df2 = df"
   ]
  },
  {
   "cell_type": "code",
   "execution_count": 87,
   "id": "656d1e90",
   "metadata": {},
   "outputs": [
    {
     "data": {
      "text/html": [
       "<div>\n",
       "<style scoped>\n",
       "    .dataframe tbody tr th:only-of-type {\n",
       "        vertical-align: middle;\n",
       "    }\n",
       "\n",
       "    .dataframe tbody tr th {\n",
       "        vertical-align: top;\n",
       "    }\n",
       "\n",
       "    .dataframe thead th {\n",
       "        text-align: right;\n",
       "    }\n",
       "</style>\n",
       "<table border=\"1\" class=\"dataframe\">\n",
       "  <thead>\n",
       "    <tr style=\"text-align: right;\">\n",
       "      <th></th>\n",
       "      <th>data</th>\n",
       "      <th>target</th>\n",
       "    </tr>\n",
       "  </thead>\n",
       "  <tbody>\n",
       "    <tr>\n",
       "      <th>0</th>\n",
       "      <td>When the young people returned to the ballroom...</td>\n",
       "      <td>-0.340259</td>\n",
       "    </tr>\n",
       "    <tr>\n",
       "      <th>1</th>\n",
       "      <td>All through dinner time, Mrs. Fayre was somewh...</td>\n",
       "      <td>-0.315372</td>\n",
       "    </tr>\n",
       "    <tr>\n",
       "      <th>2</th>\n",
       "      <td>As Roger had predicted, the snow departed as q...</td>\n",
       "      <td>-0.580118</td>\n",
       "    </tr>\n",
       "    <tr>\n",
       "      <th>3</th>\n",
       "      <td>And outside before the palace a great garden w...</td>\n",
       "      <td>-1.054013</td>\n",
       "    </tr>\n",
       "    <tr>\n",
       "      <th>4</th>\n",
       "      <td>Once upon a time there were Three Bears who li...</td>\n",
       "      <td>0.247197</td>\n",
       "    </tr>\n",
       "  </tbody>\n",
       "</table>\n",
       "</div>"
      ],
      "text/plain": [
       "                                                data    target\n",
       "0  When the young people returned to the ballroom... -0.340259\n",
       "1  All through dinner time, Mrs. Fayre was somewh... -0.315372\n",
       "2  As Roger had predicted, the snow departed as q... -0.580118\n",
       "3  And outside before the palace a great garden w... -1.054013\n",
       "4  Once upon a time there were Three Bears who li...  0.247197"
      ]
     },
     "execution_count": 87,
     "metadata": {},
     "output_type": "execute_result"
    }
   ],
   "source": [
    "df2.head()"
   ]
  },
  {
   "cell_type": "code",
   "execution_count": 88,
   "id": "de0fc693",
   "metadata": {},
   "outputs": [
    {
     "name": "stdout",
     "output_type": "stream",
     "text": [
      "(2824, 2)\n",
      "Number of Outliers removed==> 10\n"
     ]
    }
   ],
   "source": [
    "remove_outliers(df2, \"target\", 2.5)"
   ]
  },
  {
   "cell_type": "code",
   "execution_count": 203,
   "id": "678b0fbd",
   "metadata": {},
   "outputs": [
    {
     "data": {
      "text/plain": [
       "(2824, 2)"
      ]
     },
     "execution_count": 203,
     "metadata": {},
     "output_type": "execute_result"
    }
   ],
   "source": [
    "df1.shape"
   ]
  },
  {
   "cell_type": "code",
   "execution_count": null,
   "id": "ebe5522e",
   "metadata": {},
   "outputs": [],
   "source": []
  },
  {
   "cell_type": "markdown",
   "id": "5698b104",
   "metadata": {},
   "source": [
    "#### Using RNN & LSTM"
   ]
  },
  {
   "cell_type": "code",
   "execution_count": 95,
   "id": "05f50b9f",
   "metadata": {},
   "outputs": [],
   "source": [
    "import pandas as pd\n",
    "import numpy as np\n",
    "import matplotlib.pyplot as plt\n",
    "from tensorflow.keras.utils import to_categorical\n",
    "from keras.layers import Embedding, LSTM\n",
    "import tensorflow as tf\n",
    "from keras.models import Sequential\n",
    "from keras.layers import Conv2D, MaxPool2D, Flatten, Dense,Dropout"
   ]
  },
  {
   "cell_type": "code",
   "execution_count": 96,
   "id": "ec19a806",
   "metadata": {},
   "outputs": [
    {
     "data": {
      "text/html": [
       "<div>\n",
       "<style scoped>\n",
       "    .dataframe tbody tr th:only-of-type {\n",
       "        vertical-align: middle;\n",
       "    }\n",
       "\n",
       "    .dataframe tbody tr th {\n",
       "        vertical-align: top;\n",
       "    }\n",
       "\n",
       "    .dataframe thead th {\n",
       "        text-align: right;\n",
       "    }\n",
       "</style>\n",
       "<table border=\"1\" class=\"dataframe\">\n",
       "  <thead>\n",
       "    <tr style=\"text-align: right;\">\n",
       "      <th></th>\n",
       "      <th>data</th>\n",
       "      <th>target</th>\n",
       "    </tr>\n",
       "  </thead>\n",
       "  <tbody>\n",
       "    <tr>\n",
       "      <th>0</th>\n",
       "      <td>When the young people returned to the ballroom...</td>\n",
       "      <td>-0.340259</td>\n",
       "    </tr>\n",
       "    <tr>\n",
       "      <th>1</th>\n",
       "      <td>All through dinner time, Mrs. Fayre was somewh...</td>\n",
       "      <td>-0.315372</td>\n",
       "    </tr>\n",
       "    <tr>\n",
       "      <th>2</th>\n",
       "      <td>As Roger had predicted, the snow departed as q...</td>\n",
       "      <td>-0.580118</td>\n",
       "    </tr>\n",
       "    <tr>\n",
       "      <th>3</th>\n",
       "      <td>And outside before the palace a great garden w...</td>\n",
       "      <td>-1.054013</td>\n",
       "    </tr>\n",
       "    <tr>\n",
       "      <th>4</th>\n",
       "      <td>Once upon a time there were Three Bears who li...</td>\n",
       "      <td>0.247197</td>\n",
       "    </tr>\n",
       "  </tbody>\n",
       "</table>\n",
       "</div>"
      ],
      "text/plain": [
       "                                                data    target\n",
       "0  When the young people returned to the ballroom... -0.340259\n",
       "1  All through dinner time, Mrs. Fayre was somewh... -0.315372\n",
       "2  As Roger had predicted, the snow departed as q... -0.580118\n",
       "3  And outside before the palace a great garden w... -1.054013\n",
       "4  Once upon a time there were Three Bears who li...  0.247197"
      ]
     },
     "execution_count": 96,
     "metadata": {},
     "output_type": "execute_result"
    }
   ],
   "source": [
    "df.head()"
   ]
  },
  {
   "cell_type": "code",
   "execution_count": 97,
   "id": "dab0af66",
   "metadata": {},
   "outputs": [],
   "source": [
    "## sampling"
   ]
  },
  {
   "cell_type": "code",
   "execution_count": 206,
   "id": "f8304a95",
   "metadata": {},
   "outputs": [],
   "source": [
    "from sklearn.model_selection import train_test_split\n",
    "\n",
    "train, test = train_test_split(df1, test_size=0.2)"
   ]
  },
  {
   "cell_type": "code",
   "execution_count": 207,
   "id": "b19b593e",
   "metadata": {},
   "outputs": [],
   "source": [
    "train_x3 = train.iloc[:, 0]\n",
    "train_y3 = train.iloc[:, 1]\n",
    "\n",
    "test_x3 = test.iloc[:, 0]\n",
    "test_y3 = test.iloc[:, 1]"
   ]
  },
  {
   "cell_type": "code",
   "execution_count": null,
   "id": "e723c65a",
   "metadata": {},
   "outputs": [],
   "source": []
  },
  {
   "cell_type": "code",
   "execution_count": 208,
   "id": "d2fa476e",
   "metadata": {},
   "outputs": [],
   "source": [
    "max_num_words = 10000 \n",
    "seq_len = 50 \n",
    "embedding_size = 100"
   ]
  },
  {
   "cell_type": "code",
   "execution_count": 209,
   "id": "ecba583f",
   "metadata": {},
   "outputs": [],
   "source": [
    "from keras.preprocessing.text import Tokenizer  \n",
    "from keras_preprocessing.sequence import pad_sequences"
   ]
  },
  {
   "cell_type": "code",
   "execution_count": 210,
   "id": "098d8c20",
   "metadata": {},
   "outputs": [],
   "source": [
    "tokenizer = Tokenizer(num_words = max_num_words)\n",
    "tokenizer.fit_on_texts(df.data)\n",
    "train_x3   = tokenizer.texts_to_sequences(train_x3)\n",
    "train_x3   = pad_sequences(train_x3  , maxlen = seq_len)"
   ]
  },
  {
   "cell_type": "code",
   "execution_count": 211,
   "id": "8c3f4f52",
   "metadata": {},
   "outputs": [],
   "source": [
    "test_x3 = tokenizer.texts_to_sequences(test_x3)\n",
    "test_x3 = pad_sequences(test_x3, maxlen = seq_len)"
   ]
  },
  {
   "cell_type": "code",
   "execution_count": 212,
   "id": "14c00fac",
   "metadata": {},
   "outputs": [],
   "source": [
    "## now lets create an architecture"
   ]
  },
  {
   "cell_type": "code",
   "execution_count": 213,
   "id": "74f32b9a",
   "metadata": {},
   "outputs": [],
   "source": [
    "model = Sequential()\n",
    "model.add(Embedding(input_dim = max_num_words, \n",
    "                    input_length = seq_len,\n",
    "                     output_dim = embedding_size))\n",
    "model.add(Dense(128 , activation = 'relu'))\n",
    "\n",
    "model.add(LSTM(1))\n",
    "model.add(Dropout(0.25))\n",
    "model.add(Dense(1 , activation= 'linear')) \n",
    "model.compile(optimizer='adam', loss = 'mean_squared_error' , metrics = ['mse'])"
   ]
  },
  {
   "cell_type": "code",
   "execution_count": 214,
   "id": "99989840",
   "metadata": {},
   "outputs": [
    {
     "name": "stdout",
     "output_type": "stream",
     "text": [
      "Epoch 1/10\n",
      "46/46 - 6s - loss: 1.7966 - mse: 1.7966 - 6s/epoch - 141ms/step\n",
      "Epoch 2/10\n",
      "46/46 - 1s - loss: 1.4944 - mse: 1.4944 - 1s/epoch - 29ms/step\n",
      "Epoch 3/10\n",
      "46/46 - 1s - loss: 1.3021 - mse: 1.3021 - 1s/epoch - 30ms/step\n",
      "Epoch 4/10\n",
      "46/46 - 1s - loss: 1.2077 - mse: 1.2077 - 1s/epoch - 30ms/step\n",
      "Epoch 5/10\n",
      "46/46 - 1s - loss: 1.1257 - mse: 1.1257 - 1s/epoch - 30ms/step\n",
      "Epoch 6/10\n",
      "46/46 - 1s - loss: 1.0144 - mse: 1.0144 - 1s/epoch - 31ms/step\n",
      "Epoch 7/10\n",
      "46/46 - 1s - loss: 0.9171 - mse: 0.9171 - 1s/epoch - 31ms/step\n",
      "Epoch 8/10\n",
      "46/46 - 1s - loss: 0.8467 - mse: 0.8467 - 1s/epoch - 30ms/step\n",
      "Epoch 9/10\n",
      "46/46 - 1s - loss: 0.7514 - mse: 0.7514 - 1s/epoch - 29ms/step\n",
      "Epoch 10/10\n",
      "46/46 - 1s - loss: 0.7036 - mse: 0.7036 - 1s/epoch - 30ms/step\n"
     ]
    },
    {
     "data": {
      "text/plain": [
       "<keras.callbacks.History at 0x15dc900ba60>"
      ]
     },
     "execution_count": 214,
     "metadata": {},
     "output_type": "execute_result"
    }
   ],
   "source": [
    "model.fit(train_x3, train_y3, epochs=10, batch_size=50, verbose=2, shuffle=False)"
   ]
  },
  {
   "cell_type": "code",
   "execution_count": null,
   "id": "beb2735b",
   "metadata": {},
   "outputs": [],
   "source": []
  },
  {
   "cell_type": "code",
   "execution_count": 215,
   "id": "3cb0acb8",
   "metadata": {},
   "outputs": [
    {
     "name": "stdout",
     "output_type": "stream",
     "text": [
      "18/18 [==============================] - 1s 8ms/step\n"
     ]
    }
   ],
   "source": [
    "pred_lstm = model.predict(test_x3)"
   ]
  },
  {
   "cell_type": "code",
   "execution_count": 216,
   "id": "abf2577d",
   "metadata": {},
   "outputs": [
    {
     "data": {
      "text/plain": [
       "1.0109636661267758"
      ]
     },
     "execution_count": 216,
     "metadata": {},
     "output_type": "execute_result"
    }
   ],
   "source": [
    "rmse_lstm = np.sqrt(mean_squared_error(test_y3, pred_lstm))\n",
    "rmse_lstm"
   ]
  },
  {
   "cell_type": "code",
   "execution_count": 217,
   "id": "016c4ccf",
   "metadata": {},
   "outputs": [
    {
     "data": {
      "text/plain": [
       "1.0220475342284912"
      ]
     },
     "execution_count": 217,
     "metadata": {},
     "output_type": "execute_result"
    }
   ],
   "source": [
    "mean_squared_error(test_y3, pred_lstm)"
   ]
  },
  {
   "cell_type": "code",
   "execution_count": null,
   "id": "10d35ab5",
   "metadata": {},
   "outputs": [],
   "source": []
  },
  {
   "cell_type": "code",
   "execution_count": null,
   "id": "7f065a08",
   "metadata": {},
   "outputs": [],
   "source": []
  }
 ],
 "metadata": {
  "kernelspec": {
   "display_name": "Python 3 (ipykernel)",
   "language": "python",
   "name": "python3"
  },
  "language_info": {
   "codemirror_mode": {
    "name": "ipython",
    "version": 3
   },
   "file_extension": ".py",
   "mimetype": "text/x-python",
   "name": "python",
   "nbconvert_exporter": "python",
   "pygments_lexer": "ipython3",
   "version": "3.9.7"
  }
 },
 "nbformat": 4,
 "nbformat_minor": 5
}
